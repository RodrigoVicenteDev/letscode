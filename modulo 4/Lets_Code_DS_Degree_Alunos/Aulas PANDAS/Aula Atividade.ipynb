{
 "cells": [
  {
   "cell_type": "markdown",
   "id": "b7d19716",
   "metadata": {},
   "source": [
    "exercicios avaliacao"
   ]
  },
  {
   "cell_type": "code",
   "execution_count": 1,
   "id": "ce4b509c",
   "metadata": {},
   "outputs": [],
   "source": [
    "import pandas as pd\n",
    "import numpy as np"
   ]
  },
  {
   "cell_type": "code",
   "execution_count": 2,
   "id": "8c736015",
   "metadata": {},
   "outputs": [],
   "source": [
    "pd.options.display.float_format = '{:,.2f}'.format"
   ]
  },
  {
   "cell_type": "markdown",
   "id": "39609783",
   "metadata": {},
   "source": [
    "Problema 1\n",
    "Vamos praticar gerar matrizes e fazer operações com as linhas e colunas:\n",
    "\n",
    "(a) Crie uma matriz A com as dimensões (5, 4) e elementos aleatórios variando entre 0 e 50, com o 50 incluso;\n",
    "\n",
    "Dica: Utilize as funções np.random.randint e np.reshape\n",
    "\n",
    "(b) Retorne a média do vetor\n",
    "\n",
    "(c) Retorne os menores valores de cada coluna;\n",
    "\n",
    "(d) Retorne os maiores valores de cada linha."
   ]
  },
  {
   "cell_type": "code",
   "execution_count": 3,
   "id": "2025ede2",
   "metadata": {},
   "outputs": [],
   "source": [
    "a = np.random.randint(low=0, high=50, size=20).reshape(5,4)"
   ]
  },
  {
   "cell_type": "code",
   "execution_count": 4,
   "id": "2953f98b",
   "metadata": {},
   "outputs": [
    {
     "data": {
      "text/plain": [
       "array([[ 9, 21, 30, 33],\n",
       "       [19, 11,  5, 31],\n",
       "       [33,  3, 19, 35],\n",
       "       [32,  1, 46, 12],\n",
       "       [ 2,  9, 34, 24]])"
      ]
     },
     "execution_count": 4,
     "metadata": {},
     "output_type": "execute_result"
    }
   ],
   "source": [
    "a"
   ]
  },
  {
   "cell_type": "markdown",
   "id": "fad08de8",
   "metadata": {},
   "source": [
    "(b) Retorne a média do vetor"
   ]
  },
  {
   "cell_type": "code",
   "execution_count": 5,
   "id": "dcb6d6c0",
   "metadata": {},
   "outputs": [
    {
     "data": {
      "text/plain": [
       "20.45"
      ]
     },
     "execution_count": 5,
     "metadata": {},
     "output_type": "execute_result"
    }
   ],
   "source": [
    "np.mean(a)"
   ]
  },
  {
   "cell_type": "markdown",
   "id": "7b00053f",
   "metadata": {},
   "source": [
    "(c) Retorne os menores valores de cada coluna;"
   ]
  },
  {
   "cell_type": "code",
   "execution_count": 6,
   "id": "4b7aa702",
   "metadata": {},
   "outputs": [
    {
     "data": {
      "text/plain": [
       "array([9, 5, 3, 1, 2])"
      ]
     },
     "execution_count": 6,
     "metadata": {},
     "output_type": "execute_result"
    }
   ],
   "source": [
    "np.min(a , axis=1)  "
   ]
  },
  {
   "cell_type": "markdown",
   "id": "a76b313b",
   "metadata": {},
   "source": [
    "(d) Retorne os maiores valores de cada linha."
   ]
  },
  {
   "cell_type": "code",
   "execution_count": 7,
   "id": "d9b62a3d",
   "metadata": {},
   "outputs": [
    {
     "data": {
      "text/plain": [
       "array([33, 21, 46, 35])"
      ]
     },
     "execution_count": 7,
     "metadata": {},
     "output_type": "execute_result"
    }
   ],
   "source": [
    "np.max(a , axis =0)"
   ]
  },
  {
   "cell_type": "markdown",
   "id": "9079e916",
   "metadata": {},
   "source": [
    "==============================================================================================================="
   ]
  },
  {
   "cell_type": "code",
   "execution_count": 8,
   "id": "ba99d134",
   "metadata": {},
   "outputs": [],
   "source": [
    "tabela = ([[47,161,31],\n",
    "          [80,170,21],\n",
    "          [60,175,16],\n",
    "          [90,162,28],\n",
    "          [100,185,23],\n",
    "          [147,189,32]])"
   ]
  },
  {
   "cell_type": "code",
   "execution_count": 9,
   "id": "b48e8814",
   "metadata": {},
   "outputs": [],
   "source": [
    "df = pd.DataFrame(tabela , columns=[\"Peso (Kg)\", \"Altura (cm)\", \"idade (anos)\"])"
   ]
  },
  {
   "cell_type": "code",
   "execution_count": 10,
   "id": "378f4101",
   "metadata": {},
   "outputs": [
    {
     "data": {
      "text/html": [
       "<div>\n",
       "<style scoped>\n",
       "    .dataframe tbody tr th:only-of-type {\n",
       "        vertical-align: middle;\n",
       "    }\n",
       "\n",
       "    .dataframe tbody tr th {\n",
       "        vertical-align: top;\n",
       "    }\n",
       "\n",
       "    .dataframe thead th {\n",
       "        text-align: right;\n",
       "    }\n",
       "</style>\n",
       "<table border=\"1\" class=\"dataframe\">\n",
       "  <thead>\n",
       "    <tr style=\"text-align: right;\">\n",
       "      <th></th>\n",
       "      <th>Peso (Kg)</th>\n",
       "      <th>Altura (cm)</th>\n",
       "      <th>idade (anos)</th>\n",
       "    </tr>\n",
       "  </thead>\n",
       "  <tbody>\n",
       "    <tr>\n",
       "      <th>0</th>\n",
       "      <td>47</td>\n",
       "      <td>161</td>\n",
       "      <td>31</td>\n",
       "    </tr>\n",
       "    <tr>\n",
       "      <th>1</th>\n",
       "      <td>80</td>\n",
       "      <td>170</td>\n",
       "      <td>21</td>\n",
       "    </tr>\n",
       "    <tr>\n",
       "      <th>2</th>\n",
       "      <td>60</td>\n",
       "      <td>175</td>\n",
       "      <td>16</td>\n",
       "    </tr>\n",
       "    <tr>\n",
       "      <th>3</th>\n",
       "      <td>90</td>\n",
       "      <td>162</td>\n",
       "      <td>28</td>\n",
       "    </tr>\n",
       "    <tr>\n",
       "      <th>4</th>\n",
       "      <td>100</td>\n",
       "      <td>185</td>\n",
       "      <td>23</td>\n",
       "    </tr>\n",
       "    <tr>\n",
       "      <th>5</th>\n",
       "      <td>147</td>\n",
       "      <td>189</td>\n",
       "      <td>32</td>\n",
       "    </tr>\n",
       "  </tbody>\n",
       "</table>\n",
       "</div>"
      ],
      "text/plain": [
       "   Peso (Kg)  Altura (cm)  idade (anos)\n",
       "0         47          161            31\n",
       "1         80          170            21\n",
       "2         60          175            16\n",
       "3         90          162            28\n",
       "4        100          185            23\n",
       "5        147          189            32"
      ]
     },
     "execution_count": 10,
     "metadata": {},
     "output_type": "execute_result"
    }
   ],
   "source": [
    "df"
   ]
  },
  {
   "cell_type": "markdown",
   "id": "24d3bb70",
   "metadata": {},
   "source": [
    "(a) Visualize apenas os dados da coluna que contém a altura das pessoas;"
   ]
  },
  {
   "cell_type": "code",
   "execution_count": 11,
   "id": "9d7aebfe",
   "metadata": {},
   "outputs": [
    {
     "data": {
      "text/plain": [
       "0    161\n",
       "1    170\n",
       "2    175\n",
       "3    162\n",
       "4    185\n",
       "5    189\n",
       "Name: Altura (cm), dtype: int64"
      ]
     },
     "execution_count": 11,
     "metadata": {},
     "output_type": "execute_result"
    }
   ],
   "source": [
    "df.iloc[:,1]\n"
   ]
  },
  {
   "cell_type": "markdown",
   "id": "0e30d769",
   "metadata": {},
   "source": [
    "(b) Obtenha a idade média das pessoas;"
   ]
  },
  {
   "cell_type": "code",
   "execution_count": 12,
   "id": "1f88e55b",
   "metadata": {},
   "outputs": [
    {
     "data": {
      "text/plain": [
       "25.166666666666668"
      ]
     },
     "execution_count": 12,
     "metadata": {},
     "output_type": "execute_result"
    }
   ],
   "source": [
    " media = df[\"idade (anos)\"].mean()\n",
    "media"
   ]
  },
  {
   "cell_type": "markdown",
   "id": "7cc91dd2",
   "metadata": {},
   "source": [
    "(c) Obtenha os dados das pessoas que estão abaixo da altura média;"
   ]
  },
  {
   "cell_type": "code",
   "execution_count": 13,
   "id": "a776e404",
   "metadata": {},
   "outputs": [
    {
     "data": {
      "text/html": [
       "<div>\n",
       "<style scoped>\n",
       "    .dataframe tbody tr th:only-of-type {\n",
       "        vertical-align: middle;\n",
       "    }\n",
       "\n",
       "    .dataframe tbody tr th {\n",
       "        vertical-align: top;\n",
       "    }\n",
       "\n",
       "    .dataframe thead th {\n",
       "        text-align: right;\n",
       "    }\n",
       "</style>\n",
       "<table border=\"1\" class=\"dataframe\">\n",
       "  <thead>\n",
       "    <tr style=\"text-align: right;\">\n",
       "      <th></th>\n",
       "      <th>Peso (Kg)</th>\n",
       "      <th>Altura (cm)</th>\n",
       "      <th>idade (anos)</th>\n",
       "    </tr>\n",
       "  </thead>\n",
       "  <tbody>\n",
       "    <tr>\n",
       "      <th>1</th>\n",
       "      <td>80</td>\n",
       "      <td>170</td>\n",
       "      <td>21</td>\n",
       "    </tr>\n",
       "    <tr>\n",
       "      <th>2</th>\n",
       "      <td>60</td>\n",
       "      <td>175</td>\n",
       "      <td>16</td>\n",
       "    </tr>\n",
       "    <tr>\n",
       "      <th>4</th>\n",
       "      <td>100</td>\n",
       "      <td>185</td>\n",
       "      <td>23</td>\n",
       "    </tr>\n",
       "  </tbody>\n",
       "</table>\n",
       "</div>"
      ],
      "text/plain": [
       "   Peso (Kg)  Altura (cm)  idade (anos)\n",
       "1         80          170            21\n",
       "2         60          175            16\n",
       "4        100          185            23"
      ]
     },
     "execution_count": 13,
     "metadata": {},
     "output_type": "execute_result"
    }
   ],
   "source": [
    "df[df[\"idade (anos)\"] < media]"
   ]
  },
  {
   "cell_type": "markdown",
   "id": "b44c418e",
   "metadata": {},
   "source": [
    "(d) Crie um nova coluna no DataFrame que contenha o IMC (Índice de Massa Corporal) de cada pessoa;"
   ]
  },
  {
   "cell_type": "code",
   "execution_count": 14,
   "id": "aef7ec0c",
   "metadata": {},
   "outputs": [],
   "source": [
    "dfconvertido = df[\"Altura (cm)\"]/100"
   ]
  },
  {
   "cell_type": "code",
   "execution_count": 15,
   "id": "f0e0cecd",
   "metadata": {},
   "outputs": [],
   "source": [
    "imc = df[\"Peso (Kg)\"] / (df[\"Altura (cm)\"]/100)**2"
   ]
  },
  {
   "cell_type": "code",
   "execution_count": 16,
   "id": "c1e738cb",
   "metadata": {},
   "outputs": [
    {
     "data": {
      "text/plain": [
       "0   18.13\n",
       "1   27.68\n",
       "2   19.59\n",
       "3   34.29\n",
       "4   29.22\n",
       "5   41.15\n",
       "dtype: float64"
      ]
     },
     "execution_count": 16,
     "metadata": {},
     "output_type": "execute_result"
    }
   ],
   "source": [
    "imc"
   ]
  },
  {
   "cell_type": "markdown",
   "id": "d5dc3515",
   "metadata": {},
   "source": [
    "(e) Remova a coluna que contém a idade das pessoas;"
   ]
  },
  {
   "cell_type": "code",
   "execution_count": 17,
   "id": "b530553e",
   "metadata": {},
   "outputs": [
    {
     "data": {
      "text/html": [
       "<div>\n",
       "<style scoped>\n",
       "    .dataframe tbody tr th:only-of-type {\n",
       "        vertical-align: middle;\n",
       "    }\n",
       "\n",
       "    .dataframe tbody tr th {\n",
       "        vertical-align: top;\n",
       "    }\n",
       "\n",
       "    .dataframe thead th {\n",
       "        text-align: right;\n",
       "    }\n",
       "</style>\n",
       "<table border=\"1\" class=\"dataframe\">\n",
       "  <thead>\n",
       "    <tr style=\"text-align: right;\">\n",
       "      <th></th>\n",
       "      <th>Peso (Kg)</th>\n",
       "      <th>Altura (cm)</th>\n",
       "    </tr>\n",
       "  </thead>\n",
       "  <tbody>\n",
       "    <tr>\n",
       "      <th>0</th>\n",
       "      <td>47</td>\n",
       "      <td>161</td>\n",
       "    </tr>\n",
       "    <tr>\n",
       "      <th>1</th>\n",
       "      <td>80</td>\n",
       "      <td>170</td>\n",
       "    </tr>\n",
       "    <tr>\n",
       "      <th>2</th>\n",
       "      <td>60</td>\n",
       "      <td>175</td>\n",
       "    </tr>\n",
       "    <tr>\n",
       "      <th>3</th>\n",
       "      <td>90</td>\n",
       "      <td>162</td>\n",
       "    </tr>\n",
       "    <tr>\n",
       "      <th>4</th>\n",
       "      <td>100</td>\n",
       "      <td>185</td>\n",
       "    </tr>\n",
       "    <tr>\n",
       "      <th>5</th>\n",
       "      <td>147</td>\n",
       "      <td>189</td>\n",
       "    </tr>\n",
       "  </tbody>\n",
       "</table>\n",
       "</div>"
      ],
      "text/plain": [
       "   Peso (Kg)  Altura (cm)\n",
       "0         47          161\n",
       "1         80          170\n",
       "2         60          175\n",
       "3         90          162\n",
       "4        100          185\n",
       "5        147          189"
      ]
     },
     "execution_count": 17,
     "metadata": {},
     "output_type": "execute_result"
    }
   ],
   "source": [
    "del df[\"idade (anos)\"]\n",
    "df"
   ]
  },
  {
   "cell_type": "code",
   "execution_count": 18,
   "id": "ed1e43b2",
   "metadata": {},
   "outputs": [],
   "source": [
    "imc_classificacao = []\n",
    "for i in imc:\n",
    "    if i < 18.5:\n",
    "        imc_classificacao.append(\"Subpeso\")\n",
    "    elif ( i >= 18.5) and (i <= 24.9):\n",
    "        imc_classificacao.append(\"Normal\")\n",
    "    elif ( i >= 25) and (i <= 29.9):\n",
    "        imc_classificacao.append(\"Sobrepeso\")\n",
    "    elif ( i >= 30) and (i <= 39.9):\n",
    "        imc_classificacao.append(\"Obesidade Grau I \")\n",
    "    elif i >40:   \n",
    "        imc_classificacao.append(\"Obesidade Grau II \")\n",
    "    "
   ]
  },
  {
   "cell_type": "code",
   "execution_count": 19,
   "id": "1d977286",
   "metadata": {},
   "outputs": [
    {
     "data": {
      "text/plain": [
       "['Subpeso',\n",
       " 'Sobrepeso',\n",
       " 'Normal',\n",
       " 'Obesidade Grau I ',\n",
       " 'Sobrepeso',\n",
       " 'Obesidade Grau II ']"
      ]
     },
     "execution_count": 19,
     "metadata": {},
     "output_type": "execute_result"
    }
   ],
   "source": [
    "imc_classificacao"
   ]
  },
  {
   "cell_type": "code",
   "execution_count": 20,
   "id": "55873e96",
   "metadata": {},
   "outputs": [],
   "source": [
    "df[\"IMC Classificação\"] = imc_classificacao"
   ]
  },
  {
   "cell_type": "code",
   "execution_count": 21,
   "id": "5bb02116",
   "metadata": {},
   "outputs": [
    {
     "data": {
      "text/html": [
       "<div>\n",
       "<style scoped>\n",
       "    .dataframe tbody tr th:only-of-type {\n",
       "        vertical-align: middle;\n",
       "    }\n",
       "\n",
       "    .dataframe tbody tr th {\n",
       "        vertical-align: top;\n",
       "    }\n",
       "\n",
       "    .dataframe thead th {\n",
       "        text-align: right;\n",
       "    }\n",
       "</style>\n",
       "<table border=\"1\" class=\"dataframe\">\n",
       "  <thead>\n",
       "    <tr style=\"text-align: right;\">\n",
       "      <th></th>\n",
       "      <th>Peso (Kg)</th>\n",
       "      <th>Altura (cm)</th>\n",
       "      <th>IMC Classificação</th>\n",
       "    </tr>\n",
       "  </thead>\n",
       "  <tbody>\n",
       "    <tr>\n",
       "      <th>0</th>\n",
       "      <td>47</td>\n",
       "      <td>161</td>\n",
       "      <td>Subpeso</td>\n",
       "    </tr>\n",
       "    <tr>\n",
       "      <th>1</th>\n",
       "      <td>80</td>\n",
       "      <td>170</td>\n",
       "      <td>Sobrepeso</td>\n",
       "    </tr>\n",
       "    <tr>\n",
       "      <th>2</th>\n",
       "      <td>60</td>\n",
       "      <td>175</td>\n",
       "      <td>Normal</td>\n",
       "    </tr>\n",
       "    <tr>\n",
       "      <th>3</th>\n",
       "      <td>90</td>\n",
       "      <td>162</td>\n",
       "      <td>Obesidade Grau I</td>\n",
       "    </tr>\n",
       "    <tr>\n",
       "      <th>4</th>\n",
       "      <td>100</td>\n",
       "      <td>185</td>\n",
       "      <td>Sobrepeso</td>\n",
       "    </tr>\n",
       "    <tr>\n",
       "      <th>5</th>\n",
       "      <td>147</td>\n",
       "      <td>189</td>\n",
       "      <td>Obesidade Grau II</td>\n",
       "    </tr>\n",
       "  </tbody>\n",
       "</table>\n",
       "</div>"
      ],
      "text/plain": [
       "   Peso (Kg)  Altura (cm)   IMC Classificação\n",
       "0         47          161             Subpeso\n",
       "1         80          170           Sobrepeso\n",
       "2         60          175              Normal\n",
       "3         90          162   Obesidade Grau I \n",
       "4        100          185           Sobrepeso\n",
       "5        147          189  Obesidade Grau II "
      ]
     },
     "execution_count": 21,
     "metadata": {},
     "output_type": "execute_result"
    }
   ],
   "source": [
    "df"
   ]
  },
  {
   "cell_type": "code",
   "execution_count": 22,
   "id": "91285a55",
   "metadata": {},
   "outputs": [],
   "source": [
    "df.to_csv('IMC.csv')"
   ]
  },
  {
   "cell_type": "markdown",
   "id": "7b8da44c",
   "metadata": {},
   "source": [
    "========================================================================================================================"
   ]
  },
  {
   "cell_type": "code",
   "execution_count": 23,
   "id": "a4902b6c",
   "metadata": {},
   "outputs": [],
   "source": [
    "avocato = pd.read_csv(\"data2/avocado.csv\", sep=';')"
   ]
  },
  {
   "cell_type": "code",
   "execution_count": 24,
   "id": "5ebd9699",
   "metadata": {},
   "outputs": [
    {
     "data": {
      "text/html": [
       "<div>\n",
       "<style scoped>\n",
       "    .dataframe tbody tr th:only-of-type {\n",
       "        vertical-align: middle;\n",
       "    }\n",
       "\n",
       "    .dataframe tbody tr th {\n",
       "        vertical-align: top;\n",
       "    }\n",
       "\n",
       "    .dataframe thead th {\n",
       "        text-align: right;\n",
       "    }\n",
       "</style>\n",
       "<table border=\"1\" class=\"dataframe\">\n",
       "  <thead>\n",
       "    <tr style=\"text-align: right;\">\n",
       "      <th></th>\n",
       "      <th>Date</th>\n",
       "      <th>AveragePrice</th>\n",
       "      <th>Total Volume</th>\n",
       "      <th>year</th>\n",
       "      <th>region</th>\n",
       "    </tr>\n",
       "  </thead>\n",
       "  <tbody>\n",
       "    <tr>\n",
       "      <th>0</th>\n",
       "      <td>2015-12-27</td>\n",
       "      <td>1.33</td>\n",
       "      <td>64,236.62</td>\n",
       "      <td>2015</td>\n",
       "      <td>Albany</td>\n",
       "    </tr>\n",
       "    <tr>\n",
       "      <th>1</th>\n",
       "      <td>2015-12-20</td>\n",
       "      <td>1.35</td>\n",
       "      <td>54,876.98</td>\n",
       "      <td>2015</td>\n",
       "      <td>Albany</td>\n",
       "    </tr>\n",
       "    <tr>\n",
       "      <th>2</th>\n",
       "      <td>2015-12-13</td>\n",
       "      <td>0.93</td>\n",
       "      <td>118,220.22</td>\n",
       "      <td>2015</td>\n",
       "      <td>Albany</td>\n",
       "    </tr>\n",
       "    <tr>\n",
       "      <th>3</th>\n",
       "      <td>2015-12-06</td>\n",
       "      <td>1.08</td>\n",
       "      <td>78,992.15</td>\n",
       "      <td>2015</td>\n",
       "      <td>Albany</td>\n",
       "    </tr>\n",
       "    <tr>\n",
       "      <th>4</th>\n",
       "      <td>2015-11-29</td>\n",
       "      <td>1.28</td>\n",
       "      <td>51,039.60</td>\n",
       "      <td>2015</td>\n",
       "      <td>Albany</td>\n",
       "    </tr>\n",
       "    <tr>\n",
       "      <th>...</th>\n",
       "      <td>...</td>\n",
       "      <td>...</td>\n",
       "      <td>...</td>\n",
       "      <td>...</td>\n",
       "      <td>...</td>\n",
       "    </tr>\n",
       "    <tr>\n",
       "      <th>18244</th>\n",
       "      <td>2018-02-04</td>\n",
       "      <td>1.63</td>\n",
       "      <td>17,074.83</td>\n",
       "      <td>2018</td>\n",
       "      <td>WestTexNewMexico</td>\n",
       "    </tr>\n",
       "    <tr>\n",
       "      <th>18245</th>\n",
       "      <td>2018-01-28</td>\n",
       "      <td>1.71</td>\n",
       "      <td>13,888.04</td>\n",
       "      <td>2018</td>\n",
       "      <td>WestTexNewMexico</td>\n",
       "    </tr>\n",
       "    <tr>\n",
       "      <th>18246</th>\n",
       "      <td>2018-01-21</td>\n",
       "      <td>1.87</td>\n",
       "      <td>13,766.76</td>\n",
       "      <td>2018</td>\n",
       "      <td>WestTexNewMexico</td>\n",
       "    </tr>\n",
       "    <tr>\n",
       "      <th>18247</th>\n",
       "      <td>2018-01-14</td>\n",
       "      <td>1.93</td>\n",
       "      <td>16,205.22</td>\n",
       "      <td>2018</td>\n",
       "      <td>WestTexNewMexico</td>\n",
       "    </tr>\n",
       "    <tr>\n",
       "      <th>18248</th>\n",
       "      <td>2018-01-07</td>\n",
       "      <td>1.62</td>\n",
       "      <td>17,489.58</td>\n",
       "      <td>2018</td>\n",
       "      <td>WestTexNewMexico</td>\n",
       "    </tr>\n",
       "  </tbody>\n",
       "</table>\n",
       "<p>18249 rows × 5 columns</p>\n",
       "</div>"
      ],
      "text/plain": [
       "             Date  AveragePrice  Total Volume  year            region\n",
       "0      2015-12-27          1.33     64,236.62  2015            Albany\n",
       "1      2015-12-20          1.35     54,876.98  2015            Albany\n",
       "2      2015-12-13          0.93    118,220.22  2015            Albany\n",
       "3      2015-12-06          1.08     78,992.15  2015            Albany\n",
       "4      2015-11-29          1.28     51,039.60  2015            Albany\n",
       "...           ...           ...           ...   ...               ...\n",
       "18244  2018-02-04          1.63     17,074.83  2018  WestTexNewMexico\n",
       "18245  2018-01-28          1.71     13,888.04  2018  WestTexNewMexico\n",
       "18246  2018-01-21          1.87     13,766.76  2018  WestTexNewMexico\n",
       "18247  2018-01-14          1.93     16,205.22  2018  WestTexNewMexico\n",
       "18248  2018-01-07          1.62     17,489.58  2018  WestTexNewMexico\n",
       "\n",
       "[18249 rows x 5 columns]"
      ]
     },
     "execution_count": 24,
     "metadata": {},
     "output_type": "execute_result"
    }
   ],
   "source": [
    "avocato"
   ]
  },
  {
   "cell_type": "code",
   "execution_count": 25,
   "id": "ac6026cc",
   "metadata": {},
   "outputs": [],
   "source": [
    "avocato_type = pd.read_excel(\"data2/avocado_type.xlsx\")"
   ]
  },
  {
   "cell_type": "code",
   "execution_count": 26,
   "id": "2e5f7263",
   "metadata": {},
   "outputs": [],
   "source": [
    "avocato[\"type\"] = avocato_type"
   ]
  },
  {
   "cell_type": "code",
   "execution_count": 27,
   "id": "c606567f",
   "metadata": {},
   "outputs": [
    {
     "data": {
      "text/html": [
       "<div>\n",
       "<style scoped>\n",
       "    .dataframe tbody tr th:only-of-type {\n",
       "        vertical-align: middle;\n",
       "    }\n",
       "\n",
       "    .dataframe tbody tr th {\n",
       "        vertical-align: top;\n",
       "    }\n",
       "\n",
       "    .dataframe thead th {\n",
       "        text-align: right;\n",
       "    }\n",
       "</style>\n",
       "<table border=\"1\" class=\"dataframe\">\n",
       "  <thead>\n",
       "    <tr style=\"text-align: right;\">\n",
       "      <th></th>\n",
       "      <th>Date</th>\n",
       "      <th>AveragePrice</th>\n",
       "      <th>Total Volume</th>\n",
       "      <th>year</th>\n",
       "      <th>region</th>\n",
       "      <th>type</th>\n",
       "    </tr>\n",
       "  </thead>\n",
       "  <tbody>\n",
       "    <tr>\n",
       "      <th>0</th>\n",
       "      <td>2015-12-27</td>\n",
       "      <td>1.33</td>\n",
       "      <td>64,236.62</td>\n",
       "      <td>2015</td>\n",
       "      <td>Albany</td>\n",
       "      <td>orgânico</td>\n",
       "    </tr>\n",
       "    <tr>\n",
       "      <th>1</th>\n",
       "      <td>2015-12-20</td>\n",
       "      <td>1.35</td>\n",
       "      <td>54,876.98</td>\n",
       "      <td>2015</td>\n",
       "      <td>Albany</td>\n",
       "      <td>convencional</td>\n",
       "    </tr>\n",
       "    <tr>\n",
       "      <th>2</th>\n",
       "      <td>2015-12-13</td>\n",
       "      <td>0.93</td>\n",
       "      <td>118,220.22</td>\n",
       "      <td>2015</td>\n",
       "      <td>Albany</td>\n",
       "      <td>convencional</td>\n",
       "    </tr>\n",
       "    <tr>\n",
       "      <th>3</th>\n",
       "      <td>2015-12-06</td>\n",
       "      <td>1.08</td>\n",
       "      <td>78,992.15</td>\n",
       "      <td>2015</td>\n",
       "      <td>Albany</td>\n",
       "      <td>orgânico</td>\n",
       "    </tr>\n",
       "    <tr>\n",
       "      <th>4</th>\n",
       "      <td>2015-11-29</td>\n",
       "      <td>1.28</td>\n",
       "      <td>51,039.60</td>\n",
       "      <td>2015</td>\n",
       "      <td>Albany</td>\n",
       "      <td>orgânico</td>\n",
       "    </tr>\n",
       "    <tr>\n",
       "      <th>...</th>\n",
       "      <td>...</td>\n",
       "      <td>...</td>\n",
       "      <td>...</td>\n",
       "      <td>...</td>\n",
       "      <td>...</td>\n",
       "      <td>...</td>\n",
       "    </tr>\n",
       "    <tr>\n",
       "      <th>18244</th>\n",
       "      <td>2018-02-04</td>\n",
       "      <td>1.63</td>\n",
       "      <td>17,074.83</td>\n",
       "      <td>2018</td>\n",
       "      <td>WestTexNewMexico</td>\n",
       "      <td>convencional</td>\n",
       "    </tr>\n",
       "    <tr>\n",
       "      <th>18245</th>\n",
       "      <td>2018-01-28</td>\n",
       "      <td>1.71</td>\n",
       "      <td>13,888.04</td>\n",
       "      <td>2018</td>\n",
       "      <td>WestTexNewMexico</td>\n",
       "      <td>convencional</td>\n",
       "    </tr>\n",
       "    <tr>\n",
       "      <th>18246</th>\n",
       "      <td>2018-01-21</td>\n",
       "      <td>1.87</td>\n",
       "      <td>13,766.76</td>\n",
       "      <td>2018</td>\n",
       "      <td>WestTexNewMexico</td>\n",
       "      <td>convencional</td>\n",
       "    </tr>\n",
       "    <tr>\n",
       "      <th>18247</th>\n",
       "      <td>2018-01-14</td>\n",
       "      <td>1.93</td>\n",
       "      <td>16,205.22</td>\n",
       "      <td>2018</td>\n",
       "      <td>WestTexNewMexico</td>\n",
       "      <td>convencional</td>\n",
       "    </tr>\n",
       "    <tr>\n",
       "      <th>18248</th>\n",
       "      <td>2018-01-07</td>\n",
       "      <td>1.62</td>\n",
       "      <td>17,489.58</td>\n",
       "      <td>2018</td>\n",
       "      <td>WestTexNewMexico</td>\n",
       "      <td>convencional</td>\n",
       "    </tr>\n",
       "  </tbody>\n",
       "</table>\n",
       "<p>18249 rows × 6 columns</p>\n",
       "</div>"
      ],
      "text/plain": [
       "             Date  AveragePrice  Total Volume  year            region  \\\n",
       "0      2015-12-27          1.33     64,236.62  2015            Albany   \n",
       "1      2015-12-20          1.35     54,876.98  2015            Albany   \n",
       "2      2015-12-13          0.93    118,220.22  2015            Albany   \n",
       "3      2015-12-06          1.08     78,992.15  2015            Albany   \n",
       "4      2015-11-29          1.28     51,039.60  2015            Albany   \n",
       "...           ...           ...           ...   ...               ...   \n",
       "18244  2018-02-04          1.63     17,074.83  2018  WestTexNewMexico   \n",
       "18245  2018-01-28          1.71     13,888.04  2018  WestTexNewMexico   \n",
       "18246  2018-01-21          1.87     13,766.76  2018  WestTexNewMexico   \n",
       "18247  2018-01-14          1.93     16,205.22  2018  WestTexNewMexico   \n",
       "18248  2018-01-07          1.62     17,489.58  2018  WestTexNewMexico   \n",
       "\n",
       "               type  \n",
       "0          orgânico  \n",
       "1      convencional  \n",
       "2      convencional  \n",
       "3          orgânico  \n",
       "4          orgânico  \n",
       "...             ...  \n",
       "18244  convencional  \n",
       "18245  convencional  \n",
       "18246  convencional  \n",
       "18247  convencional  \n",
       "18248  convencional  \n",
       "\n",
       "[18249 rows x 6 columns]"
      ]
     },
     "execution_count": 27,
     "metadata": {},
     "output_type": "execute_result"
    }
   ],
   "source": [
    "avocato"
   ]
  },
  {
   "cell_type": "markdown",
   "id": "a6923898",
   "metadata": {},
   "source": [
    "(a) A quantidade de abacates do tipo convecional e do tipo orgânico."
   ]
  },
  {
   "cell_type": "code",
   "execution_count": 28,
   "id": "4f796892",
   "metadata": {},
   "outputs": [
    {
     "data": {
      "text/plain": [
       "type\n",
       "convencional    9114\n",
       "orgânico        9135\n",
       "Name: type, dtype: int64"
      ]
     },
     "execution_count": 28,
     "metadata": {},
     "output_type": "execute_result"
    }
   ],
   "source": [
    "avocato.groupby(['type'])['type'].count()"
   ]
  },
  {
   "cell_type": "markdown",
   "id": "2d38d228",
   "metadata": {},
   "source": [
    "(b) A quantidade de registros (linhas) de abacates vendidos para cada região ordenada da maior venda para a menor."
   ]
  },
  {
   "cell_type": "code",
   "execution_count": 29,
   "id": "0a81a119",
   "metadata": {},
   "outputs": [
    {
     "data": {
      "text/plain": [
       "region\n",
       "Albany                 338\n",
       "Atlanta                338\n",
       "BaltimoreWashington    338\n",
       "Boise                  338\n",
       "Boston                 338\n",
       "BuffaloRochester       338\n",
       "California             338\n",
       "Charlotte              338\n",
       "Chicago                338\n",
       "CincinnatiDayton       338\n",
       "Columbus               338\n",
       "DallasFtWorth          338\n",
       "Denver                 338\n",
       "Detroit                338\n",
       "GrandRapids            338\n",
       "GreatLakes             338\n",
       "HarrisburgScranton     338\n",
       "HartfordSpringfield    338\n",
       "Houston                338\n",
       "Indianapolis           338\n",
       "Jacksonville           338\n",
       "LasVegas               338\n",
       "LosAngeles             338\n",
       "Louisville             338\n",
       "MiamiFtLauderdale      338\n",
       "Midsouth               338\n",
       "Nashville              338\n",
       "NewOrleansMobile       338\n",
       "NewYork                338\n",
       "Northeast              338\n",
       "NorthernNewEngland     338\n",
       "Orlando                338\n",
       "Philadelphia           338\n",
       "PhoenixTucson          338\n",
       "Pittsburgh             338\n",
       "Plains                 338\n",
       "Portland               338\n",
       "RaleighGreensboro      338\n",
       "RichmondNorfolk        338\n",
       "Roanoke                338\n",
       "Sacramento             338\n",
       "SanDiego               338\n",
       "SanFrancisco           338\n",
       "Seattle                338\n",
       "SouthCarolina          338\n",
       "SouthCentral           338\n",
       "Southeast              338\n",
       "Spokane                338\n",
       "StLouis                338\n",
       "Syracuse               338\n",
       "Tampa                  338\n",
       "TotalUS                338\n",
       "West                   338\n",
       "WestTexNewMexico       335\n",
       "Name: Total Volume, dtype: int64"
      ]
     },
     "execution_count": 29,
     "metadata": {},
     "output_type": "execute_result"
    }
   ],
   "source": [
    "avocato.groupby(['region'])['Total Volume'].count()"
   ]
  },
  {
   "cell_type": "markdown",
   "id": "73deef30",
   "metadata": {},
   "source": [
    "(c) Para que todos os labels das colunas fiquem padronizados, renomeie aqueles que estão iniciando em letra minúscula para que iniciem em letra maiúscula, trocando espaço por e adicionando como separação de texto."
   ]
  },
  {
   "cell_type": "code",
   "execution_count": 30,
   "id": "4e123034",
   "metadata": {},
   "outputs": [],
   "source": [
    "avocato = avocato.rename(columns=str.capitalize)\n"
   ]
  },
  {
   "cell_type": "code",
   "execution_count": 31,
   "id": "3d08e4a3",
   "metadata": {},
   "outputs": [
    {
     "data": {
      "text/html": [
       "<div>\n",
       "<style scoped>\n",
       "    .dataframe tbody tr th:only-of-type {\n",
       "        vertical-align: middle;\n",
       "    }\n",
       "\n",
       "    .dataframe tbody tr th {\n",
       "        vertical-align: top;\n",
       "    }\n",
       "\n",
       "    .dataframe thead th {\n",
       "        text-align: right;\n",
       "    }\n",
       "</style>\n",
       "<table border=\"1\" class=\"dataframe\">\n",
       "  <thead>\n",
       "    <tr style=\"text-align: right;\">\n",
       "      <th></th>\n",
       "      <th>Date</th>\n",
       "      <th>Averageprice</th>\n",
       "      <th>Total volume</th>\n",
       "      <th>Year</th>\n",
       "      <th>Region</th>\n",
       "      <th>Type</th>\n",
       "    </tr>\n",
       "  </thead>\n",
       "  <tbody>\n",
       "    <tr>\n",
       "      <th>0</th>\n",
       "      <td>2015-12-27</td>\n",
       "      <td>1.33</td>\n",
       "      <td>64,236.62</td>\n",
       "      <td>2015</td>\n",
       "      <td>Albany</td>\n",
       "      <td>orgânico</td>\n",
       "    </tr>\n",
       "    <tr>\n",
       "      <th>1</th>\n",
       "      <td>2015-12-20</td>\n",
       "      <td>1.35</td>\n",
       "      <td>54,876.98</td>\n",
       "      <td>2015</td>\n",
       "      <td>Albany</td>\n",
       "      <td>convencional</td>\n",
       "    </tr>\n",
       "    <tr>\n",
       "      <th>2</th>\n",
       "      <td>2015-12-13</td>\n",
       "      <td>0.93</td>\n",
       "      <td>118,220.22</td>\n",
       "      <td>2015</td>\n",
       "      <td>Albany</td>\n",
       "      <td>convencional</td>\n",
       "    </tr>\n",
       "    <tr>\n",
       "      <th>3</th>\n",
       "      <td>2015-12-06</td>\n",
       "      <td>1.08</td>\n",
       "      <td>78,992.15</td>\n",
       "      <td>2015</td>\n",
       "      <td>Albany</td>\n",
       "      <td>orgânico</td>\n",
       "    </tr>\n",
       "    <tr>\n",
       "      <th>4</th>\n",
       "      <td>2015-11-29</td>\n",
       "      <td>1.28</td>\n",
       "      <td>51,039.60</td>\n",
       "      <td>2015</td>\n",
       "      <td>Albany</td>\n",
       "      <td>orgânico</td>\n",
       "    </tr>\n",
       "    <tr>\n",
       "      <th>...</th>\n",
       "      <td>...</td>\n",
       "      <td>...</td>\n",
       "      <td>...</td>\n",
       "      <td>...</td>\n",
       "      <td>...</td>\n",
       "      <td>...</td>\n",
       "    </tr>\n",
       "    <tr>\n",
       "      <th>18244</th>\n",
       "      <td>2018-02-04</td>\n",
       "      <td>1.63</td>\n",
       "      <td>17,074.83</td>\n",
       "      <td>2018</td>\n",
       "      <td>WestTexNewMexico</td>\n",
       "      <td>convencional</td>\n",
       "    </tr>\n",
       "    <tr>\n",
       "      <th>18245</th>\n",
       "      <td>2018-01-28</td>\n",
       "      <td>1.71</td>\n",
       "      <td>13,888.04</td>\n",
       "      <td>2018</td>\n",
       "      <td>WestTexNewMexico</td>\n",
       "      <td>convencional</td>\n",
       "    </tr>\n",
       "    <tr>\n",
       "      <th>18246</th>\n",
       "      <td>2018-01-21</td>\n",
       "      <td>1.87</td>\n",
       "      <td>13,766.76</td>\n",
       "      <td>2018</td>\n",
       "      <td>WestTexNewMexico</td>\n",
       "      <td>convencional</td>\n",
       "    </tr>\n",
       "    <tr>\n",
       "      <th>18247</th>\n",
       "      <td>2018-01-14</td>\n",
       "      <td>1.93</td>\n",
       "      <td>16,205.22</td>\n",
       "      <td>2018</td>\n",
       "      <td>WestTexNewMexico</td>\n",
       "      <td>convencional</td>\n",
       "    </tr>\n",
       "    <tr>\n",
       "      <th>18248</th>\n",
       "      <td>2018-01-07</td>\n",
       "      <td>1.62</td>\n",
       "      <td>17,489.58</td>\n",
       "      <td>2018</td>\n",
       "      <td>WestTexNewMexico</td>\n",
       "      <td>convencional</td>\n",
       "    </tr>\n",
       "  </tbody>\n",
       "</table>\n",
       "<p>18249 rows × 6 columns</p>\n",
       "</div>"
      ],
      "text/plain": [
       "             Date  Averageprice  Total volume  Year            Region  \\\n",
       "0      2015-12-27          1.33     64,236.62  2015            Albany   \n",
       "1      2015-12-20          1.35     54,876.98  2015            Albany   \n",
       "2      2015-12-13          0.93    118,220.22  2015            Albany   \n",
       "3      2015-12-06          1.08     78,992.15  2015            Albany   \n",
       "4      2015-11-29          1.28     51,039.60  2015            Albany   \n",
       "...           ...           ...           ...   ...               ...   \n",
       "18244  2018-02-04          1.63     17,074.83  2018  WestTexNewMexico   \n",
       "18245  2018-01-28          1.71     13,888.04  2018  WestTexNewMexico   \n",
       "18246  2018-01-21          1.87     13,766.76  2018  WestTexNewMexico   \n",
       "18247  2018-01-14          1.93     16,205.22  2018  WestTexNewMexico   \n",
       "18248  2018-01-07          1.62     17,489.58  2018  WestTexNewMexico   \n",
       "\n",
       "               Type  \n",
       "0          orgânico  \n",
       "1      convencional  \n",
       "2      convencional  \n",
       "3          orgânico  \n",
       "4          orgânico  \n",
       "...             ...  \n",
       "18244  convencional  \n",
       "18245  convencional  \n",
       "18246  convencional  \n",
       "18247  convencional  \n",
       "18248  convencional  \n",
       "\n",
       "[18249 rows x 6 columns]"
      ]
     },
     "execution_count": 31,
     "metadata": {},
     "output_type": "execute_result"
    }
   ],
   "source": [
    "avocato"
   ]
  },
  {
   "cell_type": "markdown",
   "id": "e31063fe",
   "metadata": {},
   "source": [
    "(d) Essa dado possui duplicados? Se sim, remova-os do dataset."
   ]
  },
  {
   "cell_type": "code",
   "execution_count": 32,
   "id": "5d0a7573",
   "metadata": {},
   "outputs": [],
   "source": [
    "duplicados = avocato.duplicated()"
   ]
  },
  {
   "cell_type": "code",
   "execution_count": 33,
   "id": "f96ecbd6",
   "metadata": {},
   "outputs": [
    {
     "data": {
      "text/plain": [
       "0        False\n",
       "1        False\n",
       "2        False\n",
       "3        False\n",
       "4        False\n",
       "         ...  \n",
       "18244    False\n",
       "18245    False\n",
       "18246    False\n",
       "18247    False\n",
       "18248    False\n",
       "Length: 18249, dtype: bool"
      ]
     },
     "execution_count": 33,
     "metadata": {},
     "output_type": "execute_result"
    }
   ],
   "source": [
    "duplicados"
   ]
  },
  {
   "cell_type": "code",
   "execution_count": 34,
   "id": "be1344c4",
   "metadata": {},
   "outputs": [
    {
     "data": {
      "text/plain": [
       "False    18249\n",
       "dtype: int64"
      ]
     },
     "execution_count": 34,
     "metadata": {},
     "output_type": "execute_result"
    }
   ],
   "source": [
    "duplicados.groupby(duplicados.iloc[:]).count()"
   ]
  },
  {
   "cell_type": "markdown",
   "id": "fdad6aeb",
   "metadata": {},
   "source": [
    "(e) Retire dos dados a região 'TotalUS'"
   ]
  },
  {
   "cell_type": "code",
   "execution_count": null,
   "id": "810ff9a1",
   "metadata": {},
   "outputs": [],
   "source": []
  },
  {
   "cell_type": "markdown",
   "id": "cd05cdf3",
   "metadata": {},
   "source": [
    "(g) Apresente as regiões que mais venderam abacate em todo o período em ordem decrescente."
   ]
  },
  {
   "cell_type": "code",
   "execution_count": 35,
   "id": "660c1991",
   "metadata": {},
   "outputs": [
    {
     "data": {
      "text/plain": [
       "Region\n",
       "TotalUS               5,864,740,181.80\n",
       "West                  1,086,779,155.75\n",
       "California            1,028,981,653.17\n",
       "SouthCentral          1,011,279,618.83\n",
       "Northeast               713,280,909.56\n",
       "Southeast               615,238,409.11\n",
       "GreatLakes              589,642,549.29\n",
       "Midsouth                508,349,357.20\n",
       "LosAngeles              507,896,547.63\n",
       "Plains                  311,188,529.11\n",
       "NewYork                 240,734,127.53\n",
       "DallasFtWorth           208,419,286.55\n",
       "Houston                 203,167,867.80\n",
       "PhoenixTucson           195,643,312.50\n",
       "WestTexNewMexico        144,521,839.78\n",
       "Denver                  138,902,535.99\n",
       "SanFrancisco            135,830,191.78\n",
       "BaltimoreWashington     134,713,919.32\n",
       "Chicago                 133,702,338.51\n",
       "Portland                110,552,211.60\n",
       "Seattle                 109,214,177.96\n",
       "MiamiFtLauderdale        97,673,224.03\n",
       "Boston                   97,273,984.83\n",
       "SanDiego                 89,791,919.69\n",
       "Atlanta                  88,605,118.85\n",
       "Sacramento               75,163,746.86\n",
       "Philadelphia             71,838,798.18\n",
       "NorthernNewEngland       71,532,894.11\n",
       "Tampa                    66,004,539.31\n",
       "Detroit                  63,422,419.38\n",
       "SouthCarolina            60,753,772.90\n",
       "Orlando                  58,660,703.89\n",
       "LasVegas                 54,376,906.40\n",
       "HartfordSpringfield      50,670,537.46\n",
       "RaleighGreensboro        48,202,731.66\n",
       "NewOrleansMobile         45,695,136.58\n",
       "CincinnatiDayton         44,522,007.57\n",
       "RichmondNorfolk          42,230,851.45\n",
       "HarrisburgScranton       41,808,858.68\n",
       "Nashville                35,612,089.23\n",
       "Charlotte                35,555,544.42\n",
       "StLouis                  32,072,833.33\n",
       "Indianapolis             30,263,391.43\n",
       "GrandRapids              30,211,735.93\n",
       "Columbus                 29,993,361.42\n",
       "Jacksonville             28,790,004.74\n",
       "Roanoke                  25,042,010.81\n",
       "BuffaloRochester         22,962,470.40\n",
       "Pittsburgh               18,806,345.81\n",
       "Louisville               16,097,002.40\n",
       "Albany                   16,067,799.97\n",
       "Spokane                  15,565,275.48\n",
       "Boise                    14,413,187.75\n",
       "Syracuse                 10,942,667.68\n",
       "Name: Total volume, dtype: float64"
      ]
     },
     "execution_count": 35,
     "metadata": {},
     "output_type": "execute_result"
    }
   ],
   "source": [
    "avocato.groupby(['Region'])['Total volume'].sum().sort_values(ascending=False)"
   ]
  },
  {
   "cell_type": "markdown",
   "id": "2e55ae59",
   "metadata": {},
   "source": [
    "(h) Calcule o volume total de abacates vendidos para cada tipo e ano."
   ]
  },
  {
   "cell_type": "code",
   "execution_count": 36,
   "id": "385fe991",
   "metadata": {},
   "outputs": [
    {
     "data": {
      "text/plain": [
       "Type          Year\n",
       "convencional  2015   2,262,212,670.62\n",
       "              2016   2,537,092,185.32\n",
       "              2017   2,387,148,981.92\n",
       "              2018     753,606,839.89\n",
       "orgânico      2015   2,123,255,991.42\n",
       "              2016   2,283,797,706.51\n",
       "              2017   2,547,156,717.35\n",
       "              2018     629,131,500.37\n",
       "Name: Total volume, dtype: float64"
      ]
     },
     "execution_count": 36,
     "metadata": {},
     "output_type": "execute_result"
    }
   ],
   "source": [
    "avocato.groupby(['Type', 'Year'])['Total volume'].sum()"
   ]
  },
  {
   "cell_type": "markdown",
   "id": "4df997ed",
   "metadata": {},
   "source": [
    "(f) existe alguma região que foi a maior responsável pela queda na produção de 2018?"
   ]
  },
  {
   "cell_type": "code",
   "execution_count": 37,
   "id": "59b463cb",
   "metadata": {},
   "outputs": [
    {
     "data": {
      "text/plain": [
       "Year  Region    \n",
       "2018  Syracuse         1,046,987.66\n",
       "      Boise            1,214,759.57\n",
       "      Spokane          1,225,893.47\n",
       "      Louisville       1,471,561.01\n",
       "      Albany           1,541,986.17\n",
       "                         ...       \n",
       "2017  West           345,054,416.10\n",
       "2018  TotalUS        523,632,254.22\n",
       "2015  TotalUS      1,657,255,221.42\n",
       "2016  TotalUS      1,819,159,142.78\n",
       "2017  TotalUS      1,864,693,563.38\n",
       "Name: Total volume, Length: 216, dtype: float64"
      ]
     },
     "execution_count": 37,
     "metadata": {},
     "output_type": "execute_result"
    }
   ],
   "source": [
    "ano = avocato[avocato[\"Year\"]==2018]\n",
    "avocato.groupby(['Year', 'Region' ])['Total volume'].sum().sort_values()"
   ]
  },
  {
   "cell_type": "code",
   "execution_count": null,
   "id": "f43f8791",
   "metadata": {},
   "outputs": [],
   "source": []
  },
  {
   "cell_type": "markdown",
   "id": "ed38eba2",
   "metadata": {},
   "source": [
    "(g) Qual cidade menos faturou com a venda de abacates?"
   ]
  },
  {
   "cell_type": "markdown",
   "id": "aa3a9ca1",
   "metadata": {},
   "source": [
    "Syracuse "
   ]
  },
  {
   "cell_type": "markdown",
   "id": "02029e9a",
   "metadata": {},
   "source": [
    "======================================================================================================================"
   ]
  },
  {
   "cell_type": "markdown",
   "id": "9e62f479",
   "metadata": {},
   "source": [
    "Problema 4\n",
    "Com base no dataset 'Video_Games_Sales.csv' responda:\n",
    "\n",
    "(a) Quantos jogos existem em cada genero?\n",
    "\n",
    " "
   ]
  },
  {
   "cell_type": "code",
   "execution_count": 38,
   "id": "01873fbe",
   "metadata": {},
   "outputs": [],
   "source": [
    "games = pd.read_excel(\"data2/Video_Games_Sales.xlsx\")"
   ]
  },
  {
   "cell_type": "code",
   "execution_count": 39,
   "id": "a8b0a37d",
   "metadata": {},
   "outputs": [],
   "source": [
    "def limpar_dados(c1,c2,c3,c4,c5,c6,c7,c8,c9):\n",
    "    \n",
    "    games[[c1,c2,c3,c4,c5,c6,c7,c8,c9]] = games[[c1,c2,c3,c4,c5,c6,c7,c8,c9]].astype(str)\n",
    "    \n",
    "    for i in [c1,c2,c3,c4,c5,c6,c7,c8,c9]:\n",
    "        for t in games[i]:\n",
    "            if ':' in t:\n",
    "                games.replace({t:'0'}, inplace=True)\n",
    "\n",
    "                \n",
    "    games[[c1,c2,c3,c4,c5,c6,c7,c8,c9]] = games[[c1,c2,c3,c4,c5,c6,c7,c8,c9]].astype(float)\n",
    "            "
   ]
  },
  {
   "cell_type": "code",
   "execution_count": 40,
   "id": "3a7b76ec",
   "metadata": {},
   "outputs": [],
   "source": [
    "limpar_dados('NA_Sales','EU_Sales','JP_Sales','Other_Sales','Global_Sales','Critic_Score','Critic_Count','User_Score','User_Count')\n",
    "games = games.fillna(0)"
   ]
  },
  {
   "cell_type": "code",
   "execution_count": 41,
   "id": "ac4fd228",
   "metadata": {},
   "outputs": [
    {
     "data": {
      "text/plain": [
       "Genre\n",
       "0                  2\n",
       "Action          3370\n",
       "Adventure       1303\n",
       "Fighting         849\n",
       "Misc            1750\n",
       "Platform         888\n",
       "Puzzle           580\n",
       "Racing          1249\n",
       "Role-Playing    1500\n",
       "Shooter         1323\n",
       "Simulation       874\n",
       "Sports          2348\n",
       "Strategy         683\n",
       "Name: Genre, dtype: int64"
      ]
     },
     "execution_count": 41,
     "metadata": {},
     "output_type": "execute_result"
    }
   ],
   "source": [
    "games.groupby(['Genre'])['Genre'].count()\n"
   ]
  },
  {
   "cell_type": "markdown",
   "id": "32a09949",
   "metadata": {},
   "source": [
    "(b) Temos duplicados nesses dados? E nulos?"
   ]
  },
  {
   "cell_type": "code",
   "execution_count": 42,
   "id": "c305507f",
   "metadata": {},
   "outputs": [
    {
     "data": {
      "text/plain": [
       "False    16719\n",
       "dtype: int64"
      ]
     },
     "execution_count": 42,
     "metadata": {},
     "output_type": "execute_result"
    }
   ],
   "source": [
    "games2 = games.duplicated()\n",
    "games2.groupby(games2.iloc[:]).count()"
   ]
  },
  {
   "cell_type": "code",
   "execution_count": 43,
   "id": "0a89b26c",
   "metadata": {},
   "outputs": [
    {
     "data": {
      "text/plain": [
       "Name               0\n",
       "Platform           0\n",
       "Year_of_Release    0\n",
       "Genre              0\n",
       "Publisher          0\n",
       "NA_Sales           0\n",
       "EU_Sales           0\n",
       "JP_Sales           0\n",
       "Other_Sales        0\n",
       "Global_Sales       0\n",
       "Critic_Score       0\n",
       "Critic_Count       0\n",
       "User_Score         0\n",
       "User_Count         0\n",
       "Developer          0\n",
       "Rating             0\n",
       "dtype: int64"
      ]
     },
     "execution_count": 43,
     "metadata": {},
     "output_type": "execute_result"
    }
   ],
   "source": [
    "games.isnull().sum()"
   ]
  },
  {
   "cell_type": "markdown",
   "id": "78d4fc06",
   "metadata": {},
   "source": [
    "(b) Quantos jogos de cada publisher receberam nota acima de 9 na avaliação dos usuarios?"
   ]
  },
  {
   "cell_type": "code",
   "execution_count": 55,
   "id": "6ecc0029",
   "metadata": {},
   "outputs": [
    {
     "data": {
      "text/html": [
       "<div>\n",
       "<style scoped>\n",
       "    .dataframe tbody tr th:only-of-type {\n",
       "        vertical-align: middle;\n",
       "    }\n",
       "\n",
       "    .dataframe tbody tr th {\n",
       "        vertical-align: top;\n",
       "    }\n",
       "\n",
       "    .dataframe thead th {\n",
       "        text-align: right;\n",
       "    }\n",
       "</style>\n",
       "<table border=\"1\" class=\"dataframe\">\n",
       "  <thead>\n",
       "    <tr style=\"text-align: right;\">\n",
       "      <th></th>\n",
       "      <th>Critic_Score</th>\n",
       "    </tr>\n",
       "    <tr>\n",
       "      <th>Publisher</th>\n",
       "      <th></th>\n",
       "    </tr>\n",
       "  </thead>\n",
       "  <tbody>\n",
       "    <tr>\n",
       "      <th>0</th>\n",
       "      <td>4</td>\n",
       "    </tr>\n",
       "    <tr>\n",
       "      <th>10TACLE Studios</th>\n",
       "      <td>1</td>\n",
       "    </tr>\n",
       "    <tr>\n",
       "      <th>1C Company</th>\n",
       "      <td>3</td>\n",
       "    </tr>\n",
       "    <tr>\n",
       "      <th>2D Boy</th>\n",
       "      <td>1</td>\n",
       "    </tr>\n",
       "    <tr>\n",
       "      <th>3DO</th>\n",
       "      <td>17</td>\n",
       "    </tr>\n",
       "    <tr>\n",
       "      <th>...</th>\n",
       "      <td>...</td>\n",
       "    </tr>\n",
       "    <tr>\n",
       "      <th>Zoo Games</th>\n",
       "      <td>6</td>\n",
       "    </tr>\n",
       "    <tr>\n",
       "      <th>Zushi Games</th>\n",
       "      <td>2</td>\n",
       "    </tr>\n",
       "    <tr>\n",
       "      <th>bitComposer Games</th>\n",
       "      <td>4</td>\n",
       "    </tr>\n",
       "    <tr>\n",
       "      <th>id Software</th>\n",
       "      <td>1</td>\n",
       "    </tr>\n",
       "    <tr>\n",
       "      <th>inXile Entertainment</th>\n",
       "      <td>1</td>\n",
       "    </tr>\n",
       "  </tbody>\n",
       "</table>\n",
       "<p>304 rows × 1 columns</p>\n",
       "</div>"
      ],
      "text/plain": [
       "                      Critic_Score\n",
       "Publisher                         \n",
       "0                                4\n",
       "10TACLE Studios                  1\n",
       "1C Company                       3\n",
       "2D Boy                           1\n",
       "3DO                             17\n",
       "...                            ...\n",
       "Zoo Games                        6\n",
       "Zushi Games                      2\n",
       "bitComposer Games                4\n",
       "id Software                      1\n",
       "inXile Entertainment             1\n",
       "\n",
       "[304 rows x 1 columns]"
      ]
     },
     "execution_count": 55,
     "metadata": {},
     "output_type": "execute_result"
    }
   ],
   "source": [
    "notas = games[games['Critic_Score'] >= 9]\n",
    "notas\n",
    "\n",
    "notas.groupby(['Publisher'])[['Critic_Score']   ].count()"
   ]
  },
  {
   "cell_type": "markdown",
   "id": "24f11dcb",
   "metadata": {},
   "source": [
    "(c) Faça uma tabela que mostre o total vendido por ano por pais/globalmente de cada publisher? Você consegue observar algum padrão? Com se comportaram as vendas na América do Norte (NA) ao longo do tempo? O mesmo foi visto nos demais lugares?"
   ]
  },
  {
   "cell_type": "code",
   "execution_count": 45,
   "id": "2131b29a",
   "metadata": {},
   "outputs": [
    {
     "data": {
      "text/html": [
       "<div>\n",
       "<style scoped>\n",
       "    .dataframe tbody tr th:only-of-type {\n",
       "        vertical-align: middle;\n",
       "    }\n",
       "\n",
       "    .dataframe tbody tr th {\n",
       "        vertical-align: top;\n",
       "    }\n",
       "\n",
       "    .dataframe thead th {\n",
       "        text-align: right;\n",
       "    }\n",
       "</style>\n",
       "<table border=\"1\" class=\"dataframe\">\n",
       "  <thead>\n",
       "    <tr style=\"text-align: right;\">\n",
       "      <th></th>\n",
       "      <th></th>\n",
       "      <th>NA_Sales</th>\n",
       "      <th>EU_Sales</th>\n",
       "      <th>JP_Sales</th>\n",
       "      <th>Other_Sales</th>\n",
       "      <th>Global_Sales</th>\n",
       "    </tr>\n",
       "    <tr>\n",
       "      <th>Publisher</th>\n",
       "      <th>Year_of_Release</th>\n",
       "      <th></th>\n",
       "      <th></th>\n",
       "      <th></th>\n",
       "      <th></th>\n",
       "      <th></th>\n",
       "    </tr>\n",
       "  </thead>\n",
       "  <tbody>\n",
       "    <tr>\n",
       "      <th rowspan=\"7\" valign=\"top\">0</th>\n",
       "      <th>0.00</th>\n",
       "      <td>2.76</td>\n",
       "      <td>1.23</td>\n",
       "      <td>0.90</td>\n",
       "      <td>0.57</td>\n",
       "      <td>6.48</td>\n",
       "    </tr>\n",
       "    <tr>\n",
       "      <th>2,004.00</th>\n",
       "      <td>3.79</td>\n",
       "      <td>1.40</td>\n",
       "      <td>0.00</td>\n",
       "      <td>0.05</td>\n",
       "      <td>5.30</td>\n",
       "    </tr>\n",
       "    <tr>\n",
       "      <th>2,005.00</th>\n",
       "      <td>1.03</td>\n",
       "      <td>0.38</td>\n",
       "      <td>0.00</td>\n",
       "      <td>0.03</td>\n",
       "      <td>1.43</td>\n",
       "    </tr>\n",
       "    <tr>\n",
       "      <th>2,007.00</th>\n",
       "      <td>0.87</td>\n",
       "      <td>0.32</td>\n",
       "      <td>0.00</td>\n",
       "      <td>0.02</td>\n",
       "      <td>1.21</td>\n",
       "    </tr>\n",
       "    <tr>\n",
       "      <th>2,010.00</th>\n",
       "      <td>0.00</td>\n",
       "      <td>0.16</td>\n",
       "      <td>0.00</td>\n",
       "      <td>0.00</td>\n",
       "      <td>0.16</td>\n",
       "    </tr>\n",
       "    <tr>\n",
       "      <th>2,011.00</th>\n",
       "      <td>0.06</td>\n",
       "      <td>0.13</td>\n",
       "      <td>0.00</td>\n",
       "      <td>0.00</td>\n",
       "      <td>0.19</td>\n",
       "    </tr>\n",
       "    <tr>\n",
       "      <th>2,016.00</th>\n",
       "      <td>0.00</td>\n",
       "      <td>0.00</td>\n",
       "      <td>0.03</td>\n",
       "      <td>0.00</td>\n",
       "      <td>0.03</td>\n",
       "    </tr>\n",
       "    <tr>\n",
       "      <th rowspan=\"2\" valign=\"top\">10TACLE Studios</th>\n",
       "      <th>2,006.00</th>\n",
       "      <td>0.01</td>\n",
       "      <td>0.01</td>\n",
       "      <td>0.00</td>\n",
       "      <td>0.00</td>\n",
       "      <td>0.02</td>\n",
       "    </tr>\n",
       "    <tr>\n",
       "      <th>2,007.00</th>\n",
       "      <td>0.06</td>\n",
       "      <td>0.03</td>\n",
       "      <td>0.00</td>\n",
       "      <td>0.00</td>\n",
       "      <td>0.09</td>\n",
       "    </tr>\n",
       "    <tr>\n",
       "      <th rowspan=\"2\" valign=\"top\">1C Company</th>\n",
       "      <th>2,009.00</th>\n",
       "      <td>0.00</td>\n",
       "      <td>0.01</td>\n",
       "      <td>0.00</td>\n",
       "      <td>0.00</td>\n",
       "      <td>0.01</td>\n",
       "    </tr>\n",
       "    <tr>\n",
       "      <th>2,011.00</th>\n",
       "      <td>0.01</td>\n",
       "      <td>0.06</td>\n",
       "      <td>0.00</td>\n",
       "      <td>0.01</td>\n",
       "      <td>0.09</td>\n",
       "    </tr>\n",
       "    <tr>\n",
       "      <th rowspan=\"2\" valign=\"top\">20th Century Fox Video Games</th>\n",
       "      <th>1,981.00</th>\n",
       "      <td>1.27</td>\n",
       "      <td>0.07</td>\n",
       "      <td>0.00</td>\n",
       "      <td>0.01</td>\n",
       "      <td>1.35</td>\n",
       "    </tr>\n",
       "    <tr>\n",
       "      <th>1,982.00</th>\n",
       "      <td>0.55</td>\n",
       "      <td>0.03</td>\n",
       "      <td>0.00</td>\n",
       "      <td>0.00</td>\n",
       "      <td>0.59</td>\n",
       "    </tr>\n",
       "    <tr>\n",
       "      <th>2D Boy</th>\n",
       "      <th>2,008.00</th>\n",
       "      <td>0.00</td>\n",
       "      <td>0.03</td>\n",
       "      <td>0.00</td>\n",
       "      <td>0.01</td>\n",
       "      <td>0.04</td>\n",
       "    </tr>\n",
       "    <tr>\n",
       "      <th rowspan=\"6\" valign=\"top\">3DO</th>\n",
       "      <th>1,998.00</th>\n",
       "      <td>0.30</td>\n",
       "      <td>0.09</td>\n",
       "      <td>0.00</td>\n",
       "      <td>0.00</td>\n",
       "      <td>0.40</td>\n",
       "    </tr>\n",
       "    <tr>\n",
       "      <th>1,999.00</th>\n",
       "      <td>1.91</td>\n",
       "      <td>0.96</td>\n",
       "      <td>0.00</td>\n",
       "      <td>0.17</td>\n",
       "      <td>4.14</td>\n",
       "    </tr>\n",
       "    <tr>\n",
       "      <th>2,000.00</th>\n",
       "      <td>1.86</td>\n",
       "      <td>1.04</td>\n",
       "      <td>0.00</td>\n",
       "      <td>0.18</td>\n",
       "      <td>3.08</td>\n",
       "    </tr>\n",
       "    <tr>\n",
       "      <th>2,001.00</th>\n",
       "      <td>0.76</td>\n",
       "      <td>0.56</td>\n",
       "      <td>0.00</td>\n",
       "      <td>0.15</td>\n",
       "      <td>1.45</td>\n",
       "    </tr>\n",
       "    <tr>\n",
       "      <th>2,002.00</th>\n",
       "      <td>0.30</td>\n",
       "      <td>0.23</td>\n",
       "      <td>0.00</td>\n",
       "      <td>0.08</td>\n",
       "      <td>0.60</td>\n",
       "    </tr>\n",
       "    <tr>\n",
       "      <th>2,003.00</th>\n",
       "      <td>0.25</td>\n",
       "      <td>0.16</td>\n",
       "      <td>0.00</td>\n",
       "      <td>0.05</td>\n",
       "      <td>0.45</td>\n",
       "    </tr>\n",
       "    <tr>\n",
       "      <th>49Games</th>\n",
       "      <th>2,009.00</th>\n",
       "      <td>0.00</td>\n",
       "      <td>0.03</td>\n",
       "      <td>0.00</td>\n",
       "      <td>0.00</td>\n",
       "      <td>0.03</td>\n",
       "    </tr>\n",
       "    <tr>\n",
       "      <th rowspan=\"15\" valign=\"top\">505 Games</th>\n",
       "      <th>2,002.00</th>\n",
       "      <td>0.02</td>\n",
       "      <td>0.02</td>\n",
       "      <td>0.25</td>\n",
       "      <td>0.01</td>\n",
       "      <td>0.29</td>\n",
       "    </tr>\n",
       "    <tr>\n",
       "      <th>2,003.00</th>\n",
       "      <td>0.05</td>\n",
       "      <td>0.04</td>\n",
       "      <td>0.00</td>\n",
       "      <td>0.01</td>\n",
       "      <td>0.10</td>\n",
       "    </tr>\n",
       "    <tr>\n",
       "      <th>2,004.00</th>\n",
       "      <td>0.49</td>\n",
       "      <td>0.30</td>\n",
       "      <td>0.00</td>\n",
       "      <td>0.09</td>\n",
       "      <td>0.89</td>\n",
       "    </tr>\n",
       "    <tr>\n",
       "      <th>2,005.00</th>\n",
       "      <td>0.89</td>\n",
       "      <td>0.17</td>\n",
       "      <td>0.08</td>\n",
       "      <td>0.09</td>\n",
       "      <td>1.27</td>\n",
       "    </tr>\n",
       "    <tr>\n",
       "      <th>2,006.00</th>\n",
       "      <td>1.03</td>\n",
       "      <td>2.06</td>\n",
       "      <td>0.55</td>\n",
       "      <td>0.68</td>\n",
       "      <td>7.40</td>\n",
       "    </tr>\n",
       "    <tr>\n",
       "      <th>2,007.00</th>\n",
       "      <td>4.44</td>\n",
       "      <td>1.67</td>\n",
       "      <td>0.49</td>\n",
       "      <td>0.97</td>\n",
       "      <td>10.35</td>\n",
       "    </tr>\n",
       "    <tr>\n",
       "      <th>2,008.00</th>\n",
       "      <td>2.07</td>\n",
       "      <td>0.29</td>\n",
       "      <td>0.17</td>\n",
       "      <td>0.20</td>\n",
       "      <td>2.74</td>\n",
       "    </tr>\n",
       "    <tr>\n",
       "      <th>2,009.00</th>\n",
       "      <td>4.67</td>\n",
       "      <td>1.83</td>\n",
       "      <td>0.21</td>\n",
       "      <td>0.70</td>\n",
       "      <td>7.43</td>\n",
       "    </tr>\n",
       "    <tr>\n",
       "      <th>2,010.00</th>\n",
       "      <td>8.41</td>\n",
       "      <td>4.29</td>\n",
       "      <td>0.01</td>\n",
       "      <td>1.31</td>\n",
       "      <td>14.02</td>\n",
       "    </tr>\n",
       "    <tr>\n",
       "      <th>2,011.00</th>\n",
       "      <td>1.95</td>\n",
       "      <td>0.86</td>\n",
       "      <td>0.06</td>\n",
       "      <td>0.34</td>\n",
       "      <td>3.20</td>\n",
       "    </tr>\n",
       "    <tr>\n",
       "      <th>2,012.00</th>\n",
       "      <td>0.89</td>\n",
       "      <td>1.01</td>\n",
       "      <td>0.08</td>\n",
       "      <td>0.26</td>\n",
       "      <td>2.25</td>\n",
       "    </tr>\n",
       "    <tr>\n",
       "      <th>2,013.00</th>\n",
       "      <td>1.01</td>\n",
       "      <td>0.82</td>\n",
       "      <td>0.09</td>\n",
       "      <td>0.25</td>\n",
       "      <td>2.15</td>\n",
       "    </tr>\n",
       "    <tr>\n",
       "      <th>2,014.00</th>\n",
       "      <td>0.70</td>\n",
       "      <td>0.79</td>\n",
       "      <td>0.01</td>\n",
       "      <td>0.23</td>\n",
       "      <td>1.72</td>\n",
       "    </tr>\n",
       "    <tr>\n",
       "      <th>2,015.00</th>\n",
       "      <td>0.25</td>\n",
       "      <td>0.30</td>\n",
       "      <td>0.00</td>\n",
       "      <td>0.09</td>\n",
       "      <td>0.64</td>\n",
       "    </tr>\n",
       "    <tr>\n",
       "      <th>2,016.00</th>\n",
       "      <td>0.09</td>\n",
       "      <td>0.62</td>\n",
       "      <td>0.05</td>\n",
       "      <td>0.08</td>\n",
       "      <td>0.87</td>\n",
       "    </tr>\n",
       "    <tr>\n",
       "      <th rowspan=\"9\" valign=\"top\">5pb</th>\n",
       "      <th>2,008.00</th>\n",
       "      <td>0.00</td>\n",
       "      <td>0.00</td>\n",
       "      <td>0.10</td>\n",
       "      <td>0.00</td>\n",
       "      <td>0.10</td>\n",
       "    </tr>\n",
       "    <tr>\n",
       "      <th>2,009.00</th>\n",
       "      <td>0.00</td>\n",
       "      <td>0.00</td>\n",
       "      <td>0.18</td>\n",
       "      <td>0.00</td>\n",
       "      <td>0.18</td>\n",
       "    </tr>\n",
       "    <tr>\n",
       "      <th>2,010.00</th>\n",
       "      <td>0.00</td>\n",
       "      <td>0.00</td>\n",
       "      <td>0.29</td>\n",
       "      <td>0.00</td>\n",
       "      <td>0.29</td>\n",
       "    </tr>\n",
       "    <tr>\n",
       "      <th>2,011.00</th>\n",
       "      <td>0.02</td>\n",
       "      <td>0.00</td>\n",
       "      <td>0.25</td>\n",
       "      <td>0.00</td>\n",
       "      <td>0.27</td>\n",
       "    </tr>\n",
       "    <tr>\n",
       "      <th>2,012.00</th>\n",
       "      <td>0.00</td>\n",
       "      <td>0.00</td>\n",
       "      <td>0.26</td>\n",
       "      <td>0.00</td>\n",
       "      <td>0.26</td>\n",
       "    </tr>\n",
       "    <tr>\n",
       "      <th>2,013.00</th>\n",
       "      <td>0.00</td>\n",
       "      <td>0.00</td>\n",
       "      <td>0.14</td>\n",
       "      <td>0.00</td>\n",
       "      <td>0.14</td>\n",
       "    </tr>\n",
       "    <tr>\n",
       "      <th>2,014.00</th>\n",
       "      <td>0.00</td>\n",
       "      <td>0.00</td>\n",
       "      <td>0.13</td>\n",
       "      <td>0.00</td>\n",
       "      <td>0.13</td>\n",
       "    </tr>\n",
       "    <tr>\n",
       "      <th>2,015.00</th>\n",
       "      <td>0.00</td>\n",
       "      <td>0.00</td>\n",
       "      <td>0.22</td>\n",
       "      <td>0.00</td>\n",
       "      <td>0.22</td>\n",
       "    </tr>\n",
       "    <tr>\n",
       "      <th>2,016.00</th>\n",
       "      <td>0.00</td>\n",
       "      <td>0.00</td>\n",
       "      <td>0.07</td>\n",
       "      <td>0.00</td>\n",
       "      <td>0.07</td>\n",
       "    </tr>\n",
       "    <tr>\n",
       "      <th>7G//AMES</th>\n",
       "      <th>2,011.00</th>\n",
       "      <td>0.00</td>\n",
       "      <td>0.05</td>\n",
       "      <td>0.00</td>\n",
       "      <td>0.00</td>\n",
       "      <td>0.06</td>\n",
       "    </tr>\n",
       "    <tr>\n",
       "      <th>989 Sports</th>\n",
       "      <th>1,999.00</th>\n",
       "      <td>0.21</td>\n",
       "      <td>0.14</td>\n",
       "      <td>0.00</td>\n",
       "      <td>0.02</td>\n",
       "      <td>0.38</td>\n",
       "    </tr>\n",
       "    <tr>\n",
       "      <th rowspan=\"3\" valign=\"top\">989 Studios</th>\n",
       "      <th>1,997.00</th>\n",
       "      <td>0.29</td>\n",
       "      <td>0.19</td>\n",
       "      <td>0.00</td>\n",
       "      <td>0.04</td>\n",
       "      <td>0.52</td>\n",
       "    </tr>\n",
       "    <tr>\n",
       "      <th>1,998.00</th>\n",
       "      <td>5.66</td>\n",
       "      <td>1.45</td>\n",
       "      <td>0.10</td>\n",
       "      <td>0.32</td>\n",
       "      <td>7.54</td>\n",
       "    </tr>\n",
       "    <tr>\n",
       "      <th>1,999.00</th>\n",
       "      <td>2.21</td>\n",
       "      <td>1.66</td>\n",
       "      <td>0.00</td>\n",
       "      <td>0.31</td>\n",
       "      <td>3.46</td>\n",
       "    </tr>\n",
       "    <tr>\n",
       "      <th rowspan=\"3\" valign=\"top\">AQ Interactive</th>\n",
       "      <th>2,007.00</th>\n",
       "      <td>0.06</td>\n",
       "      <td>0.05</td>\n",
       "      <td>0.04</td>\n",
       "      <td>0.02</td>\n",
       "      <td>0.16</td>\n",
       "    </tr>\n",
       "    <tr>\n",
       "      <th>2,008.00</th>\n",
       "      <td>0.19</td>\n",
       "      <td>0.01</td>\n",
       "      <td>0.00</td>\n",
       "      <td>0.02</td>\n",
       "      <td>0.22</td>\n",
       "    </tr>\n",
       "    <tr>\n",
       "      <th>2,009.00</th>\n",
       "      <td>0.07</td>\n",
       "      <td>0.00</td>\n",
       "      <td>0.07</td>\n",
       "      <td>0.01</td>\n",
       "      <td>0.15</td>\n",
       "    </tr>\n",
       "    <tr>\n",
       "      <th rowspan=\"3\" valign=\"top\">ASC Games</th>\n",
       "      <th>1,996.00</th>\n",
       "      <td>0.73</td>\n",
       "      <td>0.50</td>\n",
       "      <td>0.00</td>\n",
       "      <td>0.09</td>\n",
       "      <td>1.31</td>\n",
       "    </tr>\n",
       "    <tr>\n",
       "      <th>1,998.00</th>\n",
       "      <td>0.36</td>\n",
       "      <td>0.25</td>\n",
       "      <td>0.00</td>\n",
       "      <td>0.04</td>\n",
       "      <td>0.66</td>\n",
       "    </tr>\n",
       "    <tr>\n",
       "      <th>1,999.00</th>\n",
       "      <td>0.03</td>\n",
       "      <td>0.02</td>\n",
       "      <td>0.00</td>\n",
       "      <td>0.00</td>\n",
       "      <td>0.05</td>\n",
       "    </tr>\n",
       "    <tr>\n",
       "      <th rowspan=\"4\" valign=\"top\">ASCII Entertainment</th>\n",
       "      <th>1,994.00</th>\n",
       "      <td>0.00</td>\n",
       "      <td>0.00</td>\n",
       "      <td>0.87</td>\n",
       "      <td>0.00</td>\n",
       "      <td>0.87</td>\n",
       "    </tr>\n",
       "    <tr>\n",
       "      <th>1,995.00</th>\n",
       "      <td>0.00</td>\n",
       "      <td>0.00</td>\n",
       "      <td>1.25</td>\n",
       "      <td>0.00</td>\n",
       "      <td>1.25</td>\n",
       "    </tr>\n",
       "    <tr>\n",
       "      <th>1,996.00</th>\n",
       "      <td>0.07</td>\n",
       "      <td>0.05</td>\n",
       "      <td>1.67</td>\n",
       "      <td>0.04</td>\n",
       "      <td>1.82</td>\n",
       "    </tr>\n",
       "    <tr>\n",
       "      <th>1,997.00</th>\n",
       "      <td>0.23</td>\n",
       "      <td>0.12</td>\n",
       "      <td>2.79</td>\n",
       "      <td>0.19</td>\n",
       "      <td>1.23</td>\n",
       "    </tr>\n",
       "  </tbody>\n",
       "</table>\n",
       "</div>"
      ],
      "text/plain": [
       "                                              NA_Sales  EU_Sales  JP_Sales  \\\n",
       "Publisher                    Year_of_Release                                 \n",
       "0                            0.00                 2.76      1.23      0.90   \n",
       "                             2,004.00             3.79      1.40      0.00   \n",
       "                             2,005.00             1.03      0.38      0.00   \n",
       "                             2,007.00             0.87      0.32      0.00   \n",
       "                             2,010.00             0.00      0.16      0.00   \n",
       "                             2,011.00             0.06      0.13      0.00   \n",
       "                             2,016.00             0.00      0.00      0.03   \n",
       "10TACLE Studios              2,006.00             0.01      0.01      0.00   \n",
       "                             2,007.00             0.06      0.03      0.00   \n",
       "1C Company                   2,009.00             0.00      0.01      0.00   \n",
       "                             2,011.00             0.01      0.06      0.00   \n",
       "20th Century Fox Video Games 1,981.00             1.27      0.07      0.00   \n",
       "                             1,982.00             0.55      0.03      0.00   \n",
       "2D Boy                       2,008.00             0.00      0.03      0.00   \n",
       "3DO                          1,998.00             0.30      0.09      0.00   \n",
       "                             1,999.00             1.91      0.96      0.00   \n",
       "                             2,000.00             1.86      1.04      0.00   \n",
       "                             2,001.00             0.76      0.56      0.00   \n",
       "                             2,002.00             0.30      0.23      0.00   \n",
       "                             2,003.00             0.25      0.16      0.00   \n",
       "49Games                      2,009.00             0.00      0.03      0.00   \n",
       "505 Games                    2,002.00             0.02      0.02      0.25   \n",
       "                             2,003.00             0.05      0.04      0.00   \n",
       "                             2,004.00             0.49      0.30      0.00   \n",
       "                             2,005.00             0.89      0.17      0.08   \n",
       "                             2,006.00             1.03      2.06      0.55   \n",
       "                             2,007.00             4.44      1.67      0.49   \n",
       "                             2,008.00             2.07      0.29      0.17   \n",
       "                             2,009.00             4.67      1.83      0.21   \n",
       "                             2,010.00             8.41      4.29      0.01   \n",
       "                             2,011.00             1.95      0.86      0.06   \n",
       "                             2,012.00             0.89      1.01      0.08   \n",
       "                             2,013.00             1.01      0.82      0.09   \n",
       "                             2,014.00             0.70      0.79      0.01   \n",
       "                             2,015.00             0.25      0.30      0.00   \n",
       "                             2,016.00             0.09      0.62      0.05   \n",
       "5pb                          2,008.00             0.00      0.00      0.10   \n",
       "                             2,009.00             0.00      0.00      0.18   \n",
       "                             2,010.00             0.00      0.00      0.29   \n",
       "                             2,011.00             0.02      0.00      0.25   \n",
       "                             2,012.00             0.00      0.00      0.26   \n",
       "                             2,013.00             0.00      0.00      0.14   \n",
       "                             2,014.00             0.00      0.00      0.13   \n",
       "                             2,015.00             0.00      0.00      0.22   \n",
       "                             2,016.00             0.00      0.00      0.07   \n",
       "7G//AMES                     2,011.00             0.00      0.05      0.00   \n",
       "989 Sports                   1,999.00             0.21      0.14      0.00   \n",
       "989 Studios                  1,997.00             0.29      0.19      0.00   \n",
       "                             1,998.00             5.66      1.45      0.10   \n",
       "                             1,999.00             2.21      1.66      0.00   \n",
       "AQ Interactive               2,007.00             0.06      0.05      0.04   \n",
       "                             2,008.00             0.19      0.01      0.00   \n",
       "                             2,009.00             0.07      0.00      0.07   \n",
       "ASC Games                    1,996.00             0.73      0.50      0.00   \n",
       "                             1,998.00             0.36      0.25      0.00   \n",
       "                             1,999.00             0.03      0.02      0.00   \n",
       "ASCII Entertainment          1,994.00             0.00      0.00      0.87   \n",
       "                             1,995.00             0.00      0.00      1.25   \n",
       "                             1,996.00             0.07      0.05      1.67   \n",
       "                             1,997.00             0.23      0.12      2.79   \n",
       "\n",
       "                                              Other_Sales  Global_Sales  \n",
       "Publisher                    Year_of_Release                             \n",
       "0                            0.00                    0.57          6.48  \n",
       "                             2,004.00                0.05          5.30  \n",
       "                             2,005.00                0.03          1.43  \n",
       "                             2,007.00                0.02          1.21  \n",
       "                             2,010.00                0.00          0.16  \n",
       "                             2,011.00                0.00          0.19  \n",
       "                             2,016.00                0.00          0.03  \n",
       "10TACLE Studios              2,006.00                0.00          0.02  \n",
       "                             2,007.00                0.00          0.09  \n",
       "1C Company                   2,009.00                0.00          0.01  \n",
       "                             2,011.00                0.01          0.09  \n",
       "20th Century Fox Video Games 1,981.00                0.01          1.35  \n",
       "                             1,982.00                0.00          0.59  \n",
       "2D Boy                       2,008.00                0.01          0.04  \n",
       "3DO                          1,998.00                0.00          0.40  \n",
       "                             1,999.00                0.17          4.14  \n",
       "                             2,000.00                0.18          3.08  \n",
       "                             2,001.00                0.15          1.45  \n",
       "                             2,002.00                0.08          0.60  \n",
       "                             2,003.00                0.05          0.45  \n",
       "49Games                      2,009.00                0.00          0.03  \n",
       "505 Games                    2,002.00                0.01          0.29  \n",
       "                             2,003.00                0.01          0.10  \n",
       "                             2,004.00                0.09          0.89  \n",
       "                             2,005.00                0.09          1.27  \n",
       "                             2,006.00                0.68          7.40  \n",
       "                             2,007.00                0.97         10.35  \n",
       "                             2,008.00                0.20          2.74  \n",
       "                             2,009.00                0.70          7.43  \n",
       "                             2,010.00                1.31         14.02  \n",
       "                             2,011.00                0.34          3.20  \n",
       "                             2,012.00                0.26          2.25  \n",
       "                             2,013.00                0.25          2.15  \n",
       "                             2,014.00                0.23          1.72  \n",
       "                             2,015.00                0.09          0.64  \n",
       "                             2,016.00                0.08          0.87  \n",
       "5pb                          2,008.00                0.00          0.10  \n",
       "                             2,009.00                0.00          0.18  \n",
       "                             2,010.00                0.00          0.29  \n",
       "                             2,011.00                0.00          0.27  \n",
       "                             2,012.00                0.00          0.26  \n",
       "                             2,013.00                0.00          0.14  \n",
       "                             2,014.00                0.00          0.13  \n",
       "                             2,015.00                0.00          0.22  \n",
       "                             2,016.00                0.00          0.07  \n",
       "7G//AMES                     2,011.00                0.00          0.06  \n",
       "989 Sports                   1,999.00                0.02          0.38  \n",
       "989 Studios                  1,997.00                0.04          0.52  \n",
       "                             1,998.00                0.32          7.54  \n",
       "                             1,999.00                0.31          3.46  \n",
       "AQ Interactive               2,007.00                0.02          0.16  \n",
       "                             2,008.00                0.02          0.22  \n",
       "                             2,009.00                0.01          0.15  \n",
       "ASC Games                    1,996.00                0.09          1.31  \n",
       "                             1,998.00                0.04          0.66  \n",
       "                             1,999.00                0.00          0.05  \n",
       "ASCII Entertainment          1,994.00                0.00          0.87  \n",
       "                             1,995.00                0.00          1.25  \n",
       "                             1,996.00                0.04          1.82  \n",
       "                             1,997.00                0.19          1.23  "
      ]
     },
     "execution_count": 45,
     "metadata": {},
     "output_type": "execute_result"
    }
   ],
   "source": [
    "games.groupby(['Publisher','Year_of_Release'])[['NA_Sales','EU_Sales','JP_Sales','Other_Sales','Global_Sales']].sum().head(60)\n"
   ]
  },
  {
   "cell_type": "markdown",
   "id": "a3fa1845",
   "metadata": {},
   "source": [
    "(d) Qual foi jogo mais vendido na união européia? De que ano ele é e qual a editora?"
   ]
  },
  {
   "cell_type": "code",
   "execution_count": 46,
   "id": "7be35713",
   "metadata": {},
   "outputs": [
    {
     "data": {
      "text/html": [
       "<div>\n",
       "<style scoped>\n",
       "    .dataframe tbody tr th:only-of-type {\n",
       "        vertical-align: middle;\n",
       "    }\n",
       "\n",
       "    .dataframe tbody tr th {\n",
       "        vertical-align: top;\n",
       "    }\n",
       "\n",
       "    .dataframe thead th {\n",
       "        text-align: right;\n",
       "    }\n",
       "</style>\n",
       "<table border=\"1\" class=\"dataframe\">\n",
       "  <thead>\n",
       "    <tr style=\"text-align: right;\">\n",
       "      <th></th>\n",
       "      <th>Name</th>\n",
       "      <th>EU_Sales</th>\n",
       "      <th>Year_of_Release</th>\n",
       "      <th>Publisher</th>\n",
       "    </tr>\n",
       "  </thead>\n",
       "  <tbody>\n",
       "    <tr>\n",
       "      <th>0</th>\n",
       "      <td>Wii Sports</td>\n",
       "      <td>28.96</td>\n",
       "      <td>2,006.00</td>\n",
       "      <td>Nintendo</td>\n",
       "    </tr>\n",
       "  </tbody>\n",
       "</table>\n",
       "</div>"
      ],
      "text/plain": [
       "         Name  EU_Sales  Year_of_Release Publisher\n",
       "0  Wii Sports     28.96         2,006.00  Nintendo"
      ]
     },
     "execution_count": 46,
     "metadata": {},
     "output_type": "execute_result"
    }
   ],
   "source": [
    "games[['Name','EU_Sales','Year_of_Release','Publisher']].sort_values(by = ['EU_Sales'], ascending = False).head(1)\n",
    "       \n"
   ]
  },
  {
   "cell_type": "code",
   "execution_count": null,
   "id": "a5d3cf11",
   "metadata": {},
   "outputs": [],
   "source": [
    "\n",
    "\n",
    "\n",
    "\n"
   ]
  },
  {
   "cell_type": "markdown",
   "id": "c3adee23",
   "metadata": {},
   "source": [
    "(e) Quantos % os generos ['Racing', 'Sports', 'Shooter'] representam na base de dados?"
   ]
  },
  {
   "cell_type": "code",
   "execution_count": 47,
   "id": "958dbb80",
   "metadata": {},
   "outputs": [
    {
     "data": {
      "text/plain": [
       "Genre\n",
       "0                  2\n",
       "Action          3370\n",
       "Adventure       1303\n",
       "Fighting         849\n",
       "Misc            1750\n",
       "Platform         888\n",
       "Puzzle           580\n",
       "Racing          1249\n",
       "Role-Playing    1500\n",
       "Shooter         1323\n",
       "Simulation       874\n",
       "Sports          2348\n",
       "Strategy         683\n",
       "Name: Genre, dtype: int64"
      ]
     },
     "execution_count": 47,
     "metadata": {},
     "output_type": "execute_result"
    }
   ],
   "source": [
    "total = games.groupby(['Genre'])['Genre'].count()\n",
    "total"
   ]
  },
  {
   "cell_type": "code",
   "execution_count": 48,
   "id": "f25dca5c",
   "metadata": {},
   "outputs": [
    {
     "data": {
      "text/plain": [
       "16719"
      ]
     },
     "execution_count": 48,
     "metadata": {},
     "output_type": "execute_result"
    }
   ],
   "source": [
    "total.iloc[:].sum()"
   ]
  },
  {
   "cell_type": "markdown",
   "id": "03f63681",
   "metadata": {},
   "source": [
    "Racing = 7.47%\n",
    "Sports = 14.04%\n",
    "Shooter = 7.91%"
   ]
  },
  {
   "cell_type": "markdown",
   "id": "cff395da",
   "metadata": {},
   "source": [
    "(f) Qual plataforma vendeu menos globalmente? obs: imprimir somente o nome"
   ]
  },
  {
   "cell_type": "code",
   "execution_count": 49,
   "id": "32b6cc48",
   "metadata": {},
   "outputs": [
    {
     "data": {
      "text/plain": [
       "'GG'"
      ]
     },
     "execution_count": 49,
     "metadata": {},
     "output_type": "execute_result"
    }
   ],
   "source": [
    "menos_vendido =  games.groupby(['Platform'])[['Global_Sales']].count().reset_index().sort_values(by = 'Global_Sales')\n",
    "menos_vendido.iloc[0,0]"
   ]
  },
  {
   "cell_type": "markdown",
   "id": "a36a68d8",
   "metadata": {},
   "source": [
    "============================================================================================================================"
   ]
  },
  {
   "cell_type": "markdown",
   "id": "37e41aef",
   "metadata": {},
   "source": [
    "Problema 5\n",
    "A pasta 'data/datasus' contém informações sobre casos de dengue e tabelas auxiliares.\n",
    "\n",
    "Tabela\tConteúdo\n",
    "Dengue\tQuantidade de casos por município\n",
    "Agua\tQuantidade de residências em cada município por tipo o abastecimento de água\n",
    "InstalacoesSanitarias\tQuantidade de residências em cada município por tipo de rede de esgoto\n",
    "Pib\tPIB per capita de cada município\n",
    "Municipios\tRelaciona o id_municipio com seu nome e estado\n",
    "Populacao\tQuantidade de pessoas morando em áreas urbanas, rurais e população total por município\n",
    "Sexo\tQuantidade de pessoas por sexo em cada município"
   ]
  },
  {
   "cell_type": "code",
   "execution_count": 56,
   "id": "3707c7c9",
   "metadata": {
    "scrolled": false
   },
   "outputs": [],
   "source": [
    "agua = pd.read_csv('data2/datasus/Agua.csv')\n",
    "cid  = pd.read_csv('data2/datasus/Cid10.csv')\n",
    "dengue  = pd.read_csv('data2/datasus/Dengue.csv')\n",
    "instalacoes  = pd.read_csv('data2/datasus/InstalacoesSanitarias.csv')\n",
    "municipios  = pd.read_csv('data2/datasus/Municipios.csv')\n",
    "pib  = pd.read_csv('data2/datasus/Pib.csv')\n",
    "populacao  = pd.read_csv('data2/datasus/Populacao.csv')\n",
    "sexo  = pd.read_csv('data2/datasus/Sexo.csv')"
   ]
  },
  {
   "cell_type": "code",
   "execution_count": null,
   "id": "dc45de8b",
   "metadata": {},
   "outputs": [],
   "source": [
    "\n",
    "(a) Calcular o número de casos de dengue por cada estado apresentando os dados em ordem decrescente.\n"
   ]
  },
  {
   "cell_type": "code",
   "execution_count": 67,
   "id": "c21ec084",
   "metadata": {},
   "outputs": [
    {
     "data": {
      "text/plain": [
       "UF\n",
       "GO    274620\n",
       "MG     15932\n",
       "CE     11373\n",
       "MT      7750\n",
       "SP      5173\n",
       "ES      5046\n",
       "PA      4525\n",
       "PI      3599\n",
       "MA      3374\n",
       "TO      3089\n",
       "BA      2961\n",
       "RJ      2658\n",
       "PE      2151\n",
       "MS      1678\n",
       "RN      1418\n",
       "RO      1324\n",
       "AM      1237\n",
       "PB       944\n",
       "PR       818\n",
       "AP       817\n",
       "AC       777\n",
       "AL       759\n",
       "SE       334\n",
       "RR       151\n",
       "RS        45\n",
       "SC        13\n",
       "Name: casos, dtype: int64"
      ]
     },
     "execution_count": 67,
     "metadata": {},
     "output_type": "execute_result"
    }
   ],
   "source": [
    "a = dengue.merge(municipios)\n",
    "a.groupby(['UF'])['casos'].sum().sort_values( ascending = False)"
   ]
  },
  {
   "cell_type": "markdown",
   "id": "6fa9dd4e",
   "metadata": {},
   "source": [
    "(b) Utilizando o dataset InstalacoesSanitarias.csv, determine o número de pessoas que não possuem meio sanitário algum de descarte de dejetos por estado."
   ]
  },
  {
   "cell_type": "code",
   "execution_count": 70,
   "id": "82e2b047",
   "metadata": {},
   "outputs": [],
   "source": [
    "b = instalacoes.merge(municipios)"
   ]
  },
  {
   "cell_type": "code",
   "execution_count": 73,
   "id": "10fa0674",
   "metadata": {},
   "outputs": [
    {
     "data": {
      "text/plain": [
       "UF\n",
       "GO   5,814,249.00\n",
       "BA   1,201,606.00\n",
       "MA     946,217.00\n",
       "PI     649,878.00\n",
       "CE     645,246.00\n",
       "PE     478,587.00\n",
       "PA     306,028.00\n",
       "MG     268,622.00\n",
       "PB     217,920.00\n",
       "AL     212,043.00\n",
       "AM     211,491.00\n",
       "TO     115,376.00\n",
       "AC      73,437.00\n",
       "RS      65,817.00\n",
       "SE      62,352.00\n",
       "RN      62,137.00\n",
       "MT      52,961.00\n",
       "PR      33,131.00\n",
       "RR      29,705.00\n",
       "SP      23,768.00\n",
       "RO      22,181.00\n",
       "RJ      16,987.00\n",
       "SC      16,219.00\n",
       "ES      13,060.00\n",
       "AP      11,208.00\n",
       "MS       9,010.00\n",
       "Name: nao_possui, dtype: float64"
      ]
     },
     "execution_count": 73,
     "metadata": {},
     "output_type": "execute_result"
    }
   ],
   "source": [
    "b.groupby(['UF'])['nao_possui'].sum().sort_values( ascending = False)\n"
   ]
  },
  {
   "cell_type": "markdown",
   "id": "f64fa708",
   "metadata": {},
   "source": []
  },
  {
   "cell_type": "markdown",
   "id": "3ac54596",
   "metadata": {},
   "source": [
    "(c) Crie uma coluna com a posição de ranking considerando o PIB. Os maiores PIB devem ter os menores valores de ranking."
   ]
  },
  {
   "cell_type": "code",
   "execution_count": 103,
   "id": "6cc24e33",
   "metadata": {},
   "outputs": [],
   "source": [
    "pib1 = pib.sort_values(by=['pib_percapta'], ascending = False).reset_index(drop = True)"
   ]
  },
  {
   "cell_type": "code",
   "execution_count": null,
   "id": "46193469",
   "metadata": {},
   "outputs": [],
   "source": []
  },
  {
   "cell_type": "code",
   "execution_count": 107,
   "id": "a5134b58",
   "metadata": {},
   "outputs": [
    {
     "data": {
      "text/html": [
       "<div>\n",
       "<style scoped>\n",
       "    .dataframe tbody tr th:only-of-type {\n",
       "        vertical-align: middle;\n",
       "    }\n",
       "\n",
       "    .dataframe tbody tr th {\n",
       "        vertical-align: top;\n",
       "    }\n",
       "\n",
       "    .dataframe thead th {\n",
       "        text-align: right;\n",
       "    }\n",
       "</style>\n",
       "<table border=\"1\" class=\"dataframe\">\n",
       "  <thead>\n",
       "    <tr style=\"text-align: right;\">\n",
       "      <th></th>\n",
       "      <th>id_registro</th>\n",
       "      <th>id_municipio</th>\n",
       "      <th>pib_percapta</th>\n",
       "      <th>ranking</th>\n",
       "    </tr>\n",
       "  </thead>\n",
       "  <tbody>\n",
       "    <tr>\n",
       "      <th>0</th>\n",
       "      <td>3153</td>\n",
       "      <td>3155</td>\n",
       "      <td>715,193.70</td>\n",
       "      <td>1</td>\n",
       "    </tr>\n",
       "    <tr>\n",
       "      <th>1</th>\n",
       "      <td>2963</td>\n",
       "      <td>2965</td>\n",
       "      <td>340,688.49</td>\n",
       "      <td>2</td>\n",
       "    </tr>\n",
       "    <tr>\n",
       "      <th>2</th>\n",
       "      <td>3575</td>\n",
       "      <td>3577</td>\n",
       "      <td>278,145.26</td>\n",
       "      <td>3</td>\n",
       "    </tr>\n",
       "    <tr>\n",
       "      <th>3</th>\n",
       "      <td>3231</td>\n",
       "      <td>3233</td>\n",
       "      <td>255,658.30</td>\n",
       "      <td>4</td>\n",
       "    </tr>\n",
       "    <tr>\n",
       "      <th>4</th>\n",
       "      <td>5164</td>\n",
       "      <td>5169</td>\n",
       "      <td>254,242.69</td>\n",
       "      <td>5</td>\n",
       "    </tr>\n",
       "    <tr>\n",
       "      <th>...</th>\n",
       "      <td>...</td>\n",
       "      <td>...</td>\n",
       "      <td>...</td>\n",
       "      <td>...</td>\n",
       "    </tr>\n",
       "    <tr>\n",
       "      <th>5554</th>\n",
       "      <td>618</td>\n",
       "      <td>618</td>\n",
       "      <td>3,566.34</td>\n",
       "      <td>5555</td>\n",
       "    </tr>\n",
       "    <tr>\n",
       "      <th>5555</th>\n",
       "      <td>2107</td>\n",
       "      <td>2109</td>\n",
       "      <td>3,561.71</td>\n",
       "      <td>5556</td>\n",
       "    </tr>\n",
       "    <tr>\n",
       "      <th>5556</th>\n",
       "      <td>564</td>\n",
       "      <td>564</td>\n",
       "      <td>3,529.10</td>\n",
       "      <td>5557</td>\n",
       "    </tr>\n",
       "    <tr>\n",
       "      <th>5557</th>\n",
       "      <td>644</td>\n",
       "      <td>644</td>\n",
       "      <td>3,510.69</td>\n",
       "      <td>5558</td>\n",
       "    </tr>\n",
       "    <tr>\n",
       "      <th>5558</th>\n",
       "      <td>573</td>\n",
       "      <td>573</td>\n",
       "      <td>3,241.29</td>\n",
       "      <td>5559</td>\n",
       "    </tr>\n",
       "  </tbody>\n",
       "</table>\n",
       "<p>5559 rows × 4 columns</p>\n",
       "</div>"
      ],
      "text/plain": [
       "      id_registro  id_municipio  pib_percapta  ranking\n",
       "0            3153          3155    715,193.70        1\n",
       "1            2963          2965    340,688.49        2\n",
       "2            3575          3577    278,145.26        3\n",
       "3            3231          3233    255,658.30        4\n",
       "4            5164          5169    254,242.69        5\n",
       "...           ...           ...           ...      ...\n",
       "5554          618           618      3,566.34     5555\n",
       "5555         2107          2109      3,561.71     5556\n",
       "5556          564           564      3,529.10     5557\n",
       "5557          644           644      3,510.69     5558\n",
       "5558          573           573      3,241.29     5559\n",
       "\n",
       "[5559 rows x 4 columns]"
      ]
     },
     "execution_count": 107,
     "metadata": {},
     "output_type": "execute_result"
    }
   ],
   "source": [
    "ranking =  np.arange(1,5560)\n",
    "pib1['ranking'] = ranking\n",
    "pib1"
   ]
  },
  {
   "cell_type": "markdown",
   "id": "56b84a4f",
   "metadata": {},
   "source": [
    "(d) Qual o PIB dos 5 municípios com mais casos de dengue e sua posição no ranking?"
   ]
  },
  {
   "cell_type": "code",
   "execution_count": 121,
   "id": "27b3ed03",
   "metadata": {},
   "outputs": [
    {
     "data": {
      "text/html": [
       "<div>\n",
       "<style scoped>\n",
       "    .dataframe tbody tr th:only-of-type {\n",
       "        vertical-align: middle;\n",
       "    }\n",
       "\n",
       "    .dataframe tbody tr th {\n",
       "        vertical-align: top;\n",
       "    }\n",
       "\n",
       "    .dataframe thead th {\n",
       "        text-align: right;\n",
       "    }\n",
       "</style>\n",
       "<table border=\"1\" class=\"dataframe\">\n",
       "  <thead>\n",
       "    <tr style=\"text-align: right;\">\n",
       "      <th></th>\n",
       "      <th>id_registro_x</th>\n",
       "      <th>id_municipio</th>\n",
       "      <th>pib_percapta</th>\n",
       "      <th>ranking</th>\n",
       "      <th>id_registro_y</th>\n",
       "      <th>casos</th>\n",
       "    </tr>\n",
       "  </thead>\n",
       "  <tbody>\n",
       "    <tr>\n",
       "      <th>0</th>\n",
       "      <td>3153</td>\n",
       "      <td>3155</td>\n",
       "      <td>715,193.70</td>\n",
       "      <td>1</td>\n",
       "      <td>1520</td>\n",
       "      <td>3</td>\n",
       "    </tr>\n",
       "    <tr>\n",
       "      <th>1</th>\n",
       "      <td>2963</td>\n",
       "      <td>2965</td>\n",
       "      <td>340,688.49</td>\n",
       "      <td>2</td>\n",
       "      <td>1423</td>\n",
       "      <td>1</td>\n",
       "    </tr>\n",
       "    <tr>\n",
       "      <th>2</th>\n",
       "      <td>3231</td>\n",
       "      <td>3233</td>\n",
       "      <td>255,658.30</td>\n",
       "      <td>4</td>\n",
       "      <td>1577</td>\n",
       "      <td>3</td>\n",
       "    </tr>\n",
       "    <tr>\n",
       "      <th>3</th>\n",
       "      <td>3234</td>\n",
       "      <td>3236</td>\n",
       "      <td>223,042.26</td>\n",
       "      <td>7</td>\n",
       "      <td>1579</td>\n",
       "      <td>1</td>\n",
       "    </tr>\n",
       "    <tr>\n",
       "      <th>4</th>\n",
       "      <td>3246</td>\n",
       "      <td>3248</td>\n",
       "      <td>212,966.61</td>\n",
       "      <td>9</td>\n",
       "      <td>1590</td>\n",
       "      <td>1</td>\n",
       "    </tr>\n",
       "    <tr>\n",
       "      <th>...</th>\n",
       "      <td>...</td>\n",
       "      <td>...</td>\n",
       "      <td>...</td>\n",
       "      <td>...</td>\n",
       "      <td>...</td>\n",
       "      <td>...</td>\n",
       "    </tr>\n",
       "    <tr>\n",
       "      <th>2451</th>\n",
       "      <td>1062</td>\n",
       "      <td>1063</td>\n",
       "      <td>4,053.87</td>\n",
       "      <td>5516</td>\n",
       "      <td>593</td>\n",
       "      <td>7</td>\n",
       "    </tr>\n",
       "    <tr>\n",
       "      <th>2452</th>\n",
       "      <td>932</td>\n",
       "      <td>932</td>\n",
       "      <td>3,889.40</td>\n",
       "      <td>5534</td>\n",
       "      <td>489</td>\n",
       "      <td>60</td>\n",
       "    </tr>\n",
       "    <tr>\n",
       "      <th>2453</th>\n",
       "      <td>503</td>\n",
       "      <td>503</td>\n",
       "      <td>3,796.10</td>\n",
       "      <td>5540</td>\n",
       "      <td>318</td>\n",
       "      <td>1</td>\n",
       "    </tr>\n",
       "    <tr>\n",
       "      <th>2454</th>\n",
       "      <td>1122</td>\n",
       "      <td>1123</td>\n",
       "      <td>3,794.42</td>\n",
       "      <td>5541</td>\n",
       "      <td>627</td>\n",
       "      <td>14</td>\n",
       "    </tr>\n",
       "    <tr>\n",
       "      <th>2455</th>\n",
       "      <td>564</td>\n",
       "      <td>564</td>\n",
       "      <td>3,529.10</td>\n",
       "      <td>5557</td>\n",
       "      <td>348</td>\n",
       "      <td>2</td>\n",
       "    </tr>\n",
       "  </tbody>\n",
       "</table>\n",
       "<p>2456 rows × 6 columns</p>\n",
       "</div>"
      ],
      "text/plain": [
       "      id_registro_x  id_municipio  pib_percapta  ranking  id_registro_y  casos\n",
       "0              3153          3155    715,193.70        1           1520      3\n",
       "1              2963          2965    340,688.49        2           1423      1\n",
       "2              3231          3233    255,658.30        4           1577      3\n",
       "3              3234          3236    223,042.26        7           1579      1\n",
       "4              3246          3248    212,966.61        9           1590      1\n",
       "...             ...           ...           ...      ...            ...    ...\n",
       "2451           1062          1063      4,053.87     5516            593      7\n",
       "2452            932           932      3,889.40     5534            489     60\n",
       "2453            503           503      3,796.10     5540            318      1\n",
       "2454           1122          1123      3,794.42     5541            627     14\n",
       "2455            564           564      3,529.10     5557            348      2\n",
       "\n",
       "[2456 rows x 6 columns]"
      ]
     },
     "execution_count": 121,
     "metadata": {},
     "output_type": "execute_result"
    }
   ],
   "source": [
    "d = pib1.merge(dengue, on = 'id_municipio' )\n",
    "d"
   ]
  },
  {
   "cell_type": "code",
   "execution_count": 128,
   "id": "09f49f40",
   "metadata": {
    "scrolled": true
   },
   "outputs": [
    {
     "data": {
      "text/plain": [
       "id_municipio  pib_percapta  ranking\n",
       "5566          26,445.72     905        239395\n",
       "5337          19,774.03     1572        10859\n",
       "5413          29,034.21     742          9340\n",
       "949           19,494.40     1602         4321\n",
       "5215          31,016.19     641          3298\n",
       "Name: casos, dtype: int64"
      ]
     },
     "execution_count": 128,
     "metadata": {},
     "output_type": "execute_result"
    }
   ],
   "source": [
    "d.groupby(['id_municipio','pib_percapta','ranking'])['casos'].sum().sort_values( ascending = False).head(5)"
   ]
  },
  {
   "cell_type": "code",
   "execution_count": null,
   "id": "795c4e2f",
   "metadata": {},
   "outputs": [],
   "source": []
  },
  {
   "cell_type": "code",
   "execution_count": null,
   "id": "0dbd8dff",
   "metadata": {},
   "outputs": [],
   "source": []
  }
 ],
 "metadata": {
  "kernelspec": {
   "display_name": "Python 3 (ipykernel)",
   "language": "python",
   "name": "python3"
  },
  "language_info": {
   "codemirror_mode": {
    "name": "ipython",
    "version": 3
   },
   "file_extension": ".py",
   "mimetype": "text/x-python",
   "name": "python",
   "nbconvert_exporter": "python",
   "pygments_lexer": "ipython3",
   "version": "3.10.0"
  }
 },
 "nbformat": 4,
 "nbformat_minor": 5
}
