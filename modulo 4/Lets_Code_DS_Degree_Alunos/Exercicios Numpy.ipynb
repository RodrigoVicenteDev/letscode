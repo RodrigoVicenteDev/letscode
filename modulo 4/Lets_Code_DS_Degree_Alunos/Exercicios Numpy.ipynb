{
 "cells": [
  {
   "cell_type": "markdown",
   "id": "358bb3ba",
   "metadata": {},
   "source": [
    "Exercicios\n"
   ]
  },
  {
   "cell_type": "markdown",
   "id": "a7fff26c",
   "metadata": {},
   "source": [
    "1 - Selecione todos os valores ímpares do seguinte array:\n",
    "array = [1, 2, 3, 4, 5, 6, 7, 8, 9]"
   ]
  },
  {
   "cell_type": "code",
   "execution_count": 3,
   "id": "1589a093",
   "metadata": {},
   "outputs": [
    {
     "data": {
      "text/plain": [
       "(array([0, 2, 4, 6, 8], dtype=int64),)"
      ]
     },
     "execution_count": 3,
     "metadata": {},
     "output_type": "execute_result"
    }
   ],
   "source": [
    "import numpy as np\n",
    "\n",
    "a = np.array( [1, 2, 3, 4, 5, 6, 7, 8, 9])\n",
    "\n",
    "np.where(a%2== 1)"
   ]
  },
  {
   "cell_type": "markdown",
   "id": "0e2e5af1",
   "metadata": {},
   "source": [
    "2 - Substitua os valores ímpares do seguinte array por 0:\n",
    "array = [1, 2, 3, 4, 5, 6, 7, 8, 9]"
   ]
  },
  {
   "cell_type": "code",
   "execution_count": 4,
   "id": "5d09fcc3",
   "metadata": {},
   "outputs": [
    {
     "data": {
      "text/plain": [
       "array([0, 2, 0, 4, 0, 6, 0, 8, 0])"
      ]
     },
     "execution_count": 4,
     "metadata": {},
     "output_type": "execute_result"
    }
   ],
   "source": [
    "a = np.array( [1, 2, 3, 4, 5, 6, 7, 8, 9])\n",
    "\n",
    "np.where(a%2== 1 , 0, a)"
   ]
  },
  {
   "cell_type": "markdown",
   "id": "1b3a1651",
   "metadata": {},
   "source": [
    "Utilizando o método np.genfromtxt(), importe as 4 primeiras colunas do dataset do íris e print as 10 primeiras linhas"
   ]
  },
  {
   "cell_type": "code",
   "execution_count": 13,
   "id": "0644bb92",
   "metadata": {},
   "outputs": [],
   "source": [
    "filedata = np.genfromtxt('iris.data', delimiter=',', usecols=[0,1,2,3])"
   ]
  },
  {
   "cell_type": "code",
   "execution_count": 17,
   "id": "c6664cc9",
   "metadata": {},
   "outputs": [
    {
     "data": {
      "text/plain": [
       "array([[5.1, 3.5, 1.4, 0.2],\n",
       "       [4.9, 3. , 1.4, 0.2],\n",
       "       [4.7, 3.2, 1.3, 0.2],\n",
       "       [4.6, 3.1, 1.5, 0.2],\n",
       "       [5. , 3.6, 1.4, 0.2],\n",
       "       [5.4, 3.9, 1.7, 0.4],\n",
       "       [4.6, 3.4, 1.4, 0.3],\n",
       "       [5. , 3.4, 1.5, 0.2],\n",
       "       [4.4, 2.9, 1.4, 0.2],\n",
       "       [4.9, 3.1, 1.5, 0.1]])"
      ]
     },
     "execution_count": 17,
     "metadata": {},
     "output_type": "execute_result"
    }
   ],
   "source": [
    "filedata[0:10,:]"
   ]
  },
  {
   "cell_type": "markdown",
   "id": "376103ba",
   "metadata": {},
   "source": [
    "4 - Calcule a média, mediana e desvio padrão da coluna sepallenght"
   ]
  },
  {
   "cell_type": "code",
   "execution_count": 19,
   "id": "e062ebf9",
   "metadata": {},
   "outputs": [
    {
     "data": {
      "text/plain": [
       "3.0540000000000003"
      ]
     },
     "execution_count": 19,
     "metadata": {},
     "output_type": "execute_result"
    }
   ],
   "source": [
    "np.mean(filedata[:,1], axis=0)"
   ]
  },
  {
   "cell_type": "code",
   "execution_count": 20,
   "id": "b5acd70b",
   "metadata": {},
   "outputs": [
    {
     "data": {
      "text/plain": [
       "0.4321465800705435"
      ]
     },
     "execution_count": 20,
     "metadata": {},
     "output_type": "execute_result"
    }
   ],
   "source": [
    "np.std(filedata[:,1], axis=0)"
   ]
  },
  {
   "cell_type": "code",
   "execution_count": 21,
   "id": "089e4f26",
   "metadata": {},
   "outputs": [
    {
     "data": {
      "text/plain": [
       "3.0"
      ]
     },
     "execution_count": 21,
     "metadata": {},
     "output_type": "execute_result"
    }
   ],
   "source": [
    "np.median(filedata[:,1], axis=0)"
   ]
  },
  {
   "cell_type": "markdown",
   "id": "8cd4d4b2",
   "metadata": {},
   "source": [
    "5 - Filtre a matriz para conter apenas dados nos quais petallength (3ª coluna) > 1.5 e sepallength (1ª coluna) < 5.0"
   ]
  },
  {
   "cell_type": "code",
   "execution_count": 37,
   "id": "051a5f40",
   "metadata": {},
   "outputs": [
    {
     "data": {
      "text/plain": [
       "(array([0, 0, 1, 1, 2, 2], dtype=int64),\n",
       " array([1, 2, 1, 2, 1, 2], dtype=int64))"
      ]
     },
     "execution_count": 37,
     "metadata": {},
     "output_type": "execute_result"
    }
   ],
   "source": [
    "np.where((filedata[:3] >1.0) & (filedata[:1] < 5.0))\n",
    "\n"
   ]
  },
  {
   "cell_type": "code",
   "execution_count": null,
   "id": "473f514e",
   "metadata": {},
   "outputs": [],
   "source": []
  },
  {
   "cell_type": "markdown",
   "id": "ccf8a46a",
   "metadata": {},
   "source": [
    "6 - Esse dataset possui nans?"
   ]
  },
  {
   "cell_type": "code",
   "execution_count": 35,
   "id": "4abe070d",
   "metadata": {},
   "outputs": [
    {
     "data": {
      "text/plain": [
       "150"
      ]
     },
     "execution_count": 35,
     "metadata": {},
     "output_type": "execute_result"
    }
   ],
   "source": [
    "filedata2 = np.genfromtxt('iris.data', delimiter=',')\n",
    "np.isnan(filedata2).sum()"
   ]
  },
  {
   "cell_type": "markdown",
   "id": "9bffe595",
   "metadata": {},
   "source": [
    "7 - Crie uma coluna de volume sabendo que ele pode ser calculado por (pi x petallength x sepal_length^2)/3"
   ]
  },
  {
   "cell_type": "code",
   "execution_count": 48,
   "id": "132ebbc6",
   "metadata": {},
   "outputs": [
    {
     "name": "stdout",
     "output_type": "stream",
     "text": [
      "[[ 5.1         3.5         1.4         0.2         2.56433333]\n",
      " [ 4.9         3.          1.4         0.2         1.884     ]\n",
      " [ 4.7         3.2         1.3         0.2         2.14357333]\n",
      " [ 4.6         3.1         1.5         0.2         2.01169333]\n",
      " [ 5.          3.6         1.4         0.2         2.71296   ]\n",
      " [ 5.4         3.9         1.7         0.4         6.36792   ]\n",
      " [ 4.6         3.4         1.4         0.3         3.62984   ]\n",
      " [ 5.          3.4         1.5         0.2         2.41989333]\n",
      " [ 4.4         2.9         1.4         0.2         1.76049333]\n",
      " [ 4.9         3.1         1.5         0.1         1.00584667]\n",
      " [ 5.4         3.7         1.5         0.2         2.86577333]\n",
      " [ 4.8         3.4         1.6         0.2         2.41989333]\n",
      " [ 4.8         3.          1.4         0.1         0.942     ]\n",
      " [ 4.3         3.          1.1         0.1         0.942     ]\n",
      " [ 5.8         4.          1.2         0.2         3.34933333]\n",
      " [ 5.7         4.4         1.5         0.4         8.10538667]\n",
      " [ 5.4         3.9         1.3         0.4         6.36792   ]\n",
      " [ 5.1         3.5         1.4         0.3         3.8465    ]\n",
      " [ 5.7         3.8         1.7         0.3         4.53416   ]\n",
      " [ 5.1         3.8         1.5         0.3         4.53416   ]\n",
      " [ 5.4         3.4         1.7         0.2         2.41989333]\n",
      " [ 5.1         3.7         1.5         0.4         5.73154667]\n",
      " [ 4.6         3.6         1.          0.2         2.71296   ]\n",
      " [ 5.1         3.3         1.7         0.5         5.6991    ]\n",
      " [ 4.8         3.4         1.9         0.2         2.41989333]\n",
      " [ 5.          3.          1.6         0.2         1.884     ]\n",
      " [ 5.          3.4         1.6         0.4         4.83978667]\n",
      " [ 5.2         3.5         1.5         0.2         2.56433333]\n",
      " [ 5.2         3.4         1.4         0.2         2.41989333]\n",
      " [ 4.7         3.2         1.6         0.2         2.14357333]\n",
      " [ 4.8         3.1         1.6         0.2         2.01169333]\n",
      " [ 5.4         3.4         1.5         0.4         4.83978667]\n",
      " [ 5.2         4.1         1.5         0.1         1.75944667]\n",
      " [ 5.5         4.2         1.4         0.2         3.69264   ]\n",
      " [ 4.9         3.1         1.5         0.1         1.00584667]\n",
      " [ 5.          3.2         1.2         0.2         2.14357333]\n",
      " [ 5.5         3.5         1.3         0.2         2.56433333]\n",
      " [ 4.9         3.1         1.5         0.1         1.00584667]\n",
      " [ 4.4         3.          1.3         0.2         1.884     ]\n",
      " [ 5.1         3.4         1.5         0.2         2.41989333]\n",
      " [ 5.          3.5         1.3         0.3         3.8465    ]\n",
      " [ 4.5         2.3         1.3         0.3         1.66106   ]\n",
      " [ 4.4         3.2         1.3         0.2         2.14357333]\n",
      " [ 5.          3.5         1.6         0.6         7.693     ]\n",
      " [ 5.1         3.8         1.9         0.4         6.04554667]\n",
      " [ 4.8         3.          1.4         0.3         2.826     ]\n",
      " [ 5.1         3.8         1.6         0.2         3.02277333]\n",
      " [ 4.6         3.2         1.4         0.2         2.14357333]\n",
      " [ 5.3         3.7         1.5         0.2         2.86577333]\n",
      " [ 5.          3.3         1.4         0.2         2.27964   ]\n",
      " [ 7.          3.2         4.7         1.4        15.00501333]\n",
      " [ 6.4         3.2         4.5         1.5        16.0768    ]\n",
      " [ 6.9         3.1         4.9         1.5        15.0877    ]\n",
      " [ 5.5         2.3         4.          1.3         7.19792667]\n",
      " [ 6.5         2.8         4.6         1.5        12.3088    ]\n",
      " [ 5.7         2.8         4.5         1.3        10.66762667]\n",
      " [ 6.3         3.3         4.7         1.6        18.23712   ]\n",
      " [ 4.9         2.4         3.3         1.          6.0288    ]\n",
      " [ 6.6         2.9         4.6         1.3        11.44320667]\n",
      " [ 5.2         2.7         3.9         1.4        10.68228   ]\n",
      " [ 5.          2.          3.5         1.          4.18666667]\n",
      " [ 5.9         3.          4.2         1.5        14.13      ]\n",
      " [ 6.          2.2         4.          1.          5.06586667]\n",
      " [ 6.1         2.9         4.7         1.4        12.32345333]\n",
      " [ 5.6         2.9         3.6         1.3        11.44320667]\n",
      " [ 6.7         3.1         4.4         1.4        14.08185333]\n",
      " [ 5.6         3.          4.5         1.5        14.13      ]\n",
      " [ 5.8         2.7         4.1         1.          7.6302    ]\n",
      " [ 6.2         2.2         4.5         1.5         7.5988    ]\n",
      " [ 5.6         2.5         3.9         1.1         7.19583333]\n",
      " [ 5.9         3.2         4.8         1.8        19.29216   ]\n",
      " [ 6.1         2.8         4.          1.3        10.66762667]\n",
      " [ 6.3         2.5         4.9         1.5         9.8125    ]\n",
      " [ 6.1         2.8         4.7         1.2         9.84704   ]\n",
      " [ 6.4         2.9         4.3         1.3        11.44320667]\n",
      " [ 6.6         3.          4.4         1.4        13.188     ]\n",
      " [ 6.8         2.8         4.8         1.4        11.48821333]\n",
      " [ 6.7         3.          5.          1.7        16.014     ]\n",
      " [ 6.          2.9         4.5         1.5        13.2037    ]\n",
      " [ 5.7         2.6         3.5         1.          7.07546667]\n",
      " [ 5.5         2.4         3.8         1.1         6.63168   ]\n",
      " [ 5.5         2.4         3.7         1.          6.0288    ]\n",
      " [ 5.8         2.7         3.9         1.2         9.15624   ]\n",
      " [ 6.          2.7         5.1         1.6        12.20832   ]\n",
      " [ 5.4         3.          4.5         1.5        14.13      ]\n",
      " [ 6.          3.4         4.5         1.6        19.35914667]\n",
      " [ 6.7         3.1         4.7         1.5        15.0877    ]\n",
      " [ 6.3         2.3         4.4         1.3         7.19792667]\n",
      " [ 5.6         3.          4.1         1.3        12.246     ]\n",
      " [ 5.5         2.5         4.          1.3         8.50416667]\n",
      " [ 5.5         2.6         4.4         1.2         8.49056   ]\n",
      " [ 6.1         3.          4.6         1.4        13.188     ]\n",
      " [ 5.8         2.6         4.          1.2         8.49056   ]\n",
      " [ 5.          2.3         3.3         1.          5.53686667]\n",
      " [ 5.6         2.7         4.2         1.3         9.91926   ]\n",
      " [ 5.7         3.          4.2         1.2        11.304     ]\n",
      " [ 5.7         2.9         4.2         1.3        11.44320667]\n",
      " [ 6.2         2.9         4.3         1.3        11.44320667]\n",
      " [ 5.1         2.5         3.          1.1         7.19583333]\n",
      " [ 5.7         2.8         4.1         1.3        10.66762667]\n",
      " [ 6.3         3.3         6.          2.5        28.4955    ]\n",
      " [ 5.8         2.7         5.1         1.9        14.49738   ]\n",
      " [ 7.1         3.          5.9         2.1        19.782     ]\n",
      " [ 6.3         2.9         5.6         1.8        15.84444   ]\n",
      " [ 6.5         3.          5.8         2.2        20.724     ]\n",
      " [ 7.6         3.          6.6         2.1        19.782     ]\n",
      " [ 4.9         2.5         4.5         1.7        11.12083333]\n",
      " [ 7.3         2.9         6.3         1.8        15.84444   ]\n",
      " [ 6.7         2.5         5.8         1.8        11.775     ]\n",
      " [ 7.2         3.6         6.1         2.5        33.912     ]\n",
      " [ 6.5         3.2         5.1         2.         21.43573333]\n",
      " [ 6.4         2.7         5.3         1.9        14.49738   ]\n",
      " [ 6.8         3.          5.5         2.1        19.782     ]\n",
      " [ 5.7         2.5         5.          2.         13.08333333]\n",
      " [ 5.8         2.8         5.1         2.4        19.69408   ]\n",
      " [ 6.4         3.2         5.3         2.3        24.65109333]\n",
      " [ 6.5         3.          5.5         1.8        16.956     ]\n",
      " [ 7.7         3.8         6.7         2.2        33.25050667]\n",
      " [ 7.7         2.6         6.9         2.3        16.27357333]\n",
      " [ 6.          2.2         5.          1.5         7.5988    ]\n",
      " [ 6.9         3.2         5.7         2.3        24.65109333]\n",
      " [ 5.6         2.8         4.9         2.         16.41173333]\n",
      " [ 7.7         2.8         6.7         2.         16.41173333]\n",
      " [ 6.3         2.7         4.9         1.8        13.73436   ]\n",
      " [ 6.7         3.3         5.7         2.1        23.93622   ]\n",
      " [ 7.2         3.2         6.          1.8        19.29216   ]\n",
      " [ 6.2         2.8         4.8         1.8        14.77056   ]\n",
      " [ 6.1         3.          4.9         1.8        16.956     ]\n",
      " [ 6.4         2.8         5.6         2.1        17.23232   ]\n",
      " [ 7.2         3.          5.8         1.6        15.072     ]\n",
      " [ 7.4         2.8         6.1         1.9        15.59114667]\n",
      " [ 7.9         3.8         6.4         2.         30.22773333]\n",
      " [ 6.4         2.8         5.6         2.2        18.05290667]\n",
      " [ 6.3         2.8         5.1         1.5        12.3088    ]\n",
      " [ 6.1         2.6         5.6         1.4         9.90565333]\n",
      " [ 7.7         3.          6.1         2.3        21.666     ]\n",
      " [ 6.3         3.4         5.6         2.4        29.03872   ]\n",
      " [ 6.4         3.1         5.5         1.8        18.10524   ]\n",
      " [ 6.          3.          4.8         1.8        16.956     ]\n",
      " [ 6.9         3.1         5.4         2.1        21.12278   ]\n",
      " [ 6.7         3.1         5.6         2.4        24.14032   ]\n",
      " [ 6.9         3.1         5.1         2.3        23.13447333]\n",
      " [ 5.8         2.7         5.1         1.9        14.49738   ]\n",
      " [ 6.8         3.2         5.9         2.3        24.65109333]\n",
      " [ 6.7         3.3         5.7         2.5        28.4955    ]\n",
      " [ 6.7         3.          5.2         2.3        21.666     ]\n",
      " [ 6.3         2.5         5.          1.9        12.42916667]\n",
      " [ 6.5         3.          5.2         2.         18.84      ]\n",
      " [ 6.2         3.4         5.4         2.3        27.82877333]\n",
      " [ 5.9         3.          5.1         1.8        16.956     ]]\n"
     ]
    }
   ],
   "source": [
    "volume =  (3.14 * filedata[:,3] *  (filedata[:,1]**2))/3\n",
    "\n",
    "volume = volume.reshape(len(volume), 1)\n",
    "filedata2 = np.append(filedata,volume, axis=1)\n",
    "\n",
    "print(filedata2)"
   ]
  },
  {
   "cell_type": "code",
   "execution_count": null,
   "id": "ae2a0d48",
   "metadata": {},
   "outputs": [],
   "source": []
  }
 ],
 "metadata": {
  "kernelspec": {
   "display_name": "Python 3 (ipykernel)",
   "language": "python",
   "name": "python3"
  },
  "language_info": {
   "codemirror_mode": {
    "name": "ipython",
    "version": 3
   },
   "file_extension": ".py",
   "mimetype": "text/x-python",
   "name": "python",
   "nbconvert_exporter": "python",
   "pygments_lexer": "ipython3",
   "version": "3.10.0"
  }
 },
 "nbformat": 4,
 "nbformat_minor": 5
}
